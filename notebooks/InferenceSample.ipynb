{
 "cells": [
  {
   "cell_type": "code",
   "execution_count": 57,
   "id": "initial_id",
   "metadata": {
    "collapsed": true,
    "ExecuteTime": {
     "end_time": "2024-06-08T04:06:57.246320Z",
     "start_time": "2024-06-08T04:06:57.115163Z"
    }
   },
   "outputs": [
    {
     "name": "stdout",
     "output_type": "stream",
     "text": [
      "The autoreload extension is already loaded. To reload it, use:\n",
      "  %reload_ext autoreload\n"
     ]
    }
   ],
   "source": [
    "import pandas as pd\n",
    "import matplotlib.pyplot as plt\n",
    "import seaborn as sns\n",
    "import numpy as np\n",
    "import plotly.express as px\n",
    "from lightgbm import LGBMRegressor\n",
    "from sklearn.ensemble import RandomForestRegressor\n",
    "from sklearn.experimental import enable_iterative_imputer\n",
    "from sklearn.impute import IterativeImputer\n",
    "from sklearn.pipeline import Pipeline\n",
    "from prophet import Prophet\n",
    "%load_ext autoreload\n",
    "%autoreload 2"
   ]
  },
  {
   "cell_type": "code",
   "outputs": [],
   "source": [
    "from modules.DataPipeline import (MultiTableTransformer,\n",
    "                                            Joiner,\n",
    "                                            SelectiveImputer,\n",
    "                                            HolydayExtractor)\n",
    "from modules.ModelClass import ModelClass"
   ],
   "metadata": {
    "collapsed": false,
    "ExecuteTime": {
     "end_time": "2024-06-08T04:06:57.745792Z",
     "start_time": "2024-06-08T04:06:57.648374Z"
    }
   },
   "id": "b1bb3101d88492a8",
   "execution_count": 58
  },
  {
   "cell_type": "code",
   "outputs": [],
   "source": [
    "sales = pd.read_csv('../data/shop_sales.csv')\n",
    "prices = pd.read_csv('../data/shop_sales_prices.csv')\n",
    "calendar = pd.read_csv('../data/shop_sales_dates.csv', index_col='date')"
   ],
   "metadata": {
    "collapsed": false,
    "ExecuteTime": {
     "end_time": "2024-06-08T04:06:57.880853Z",
     "start_time": "2024-06-08T04:06:57.747895Z"
    }
   },
   "id": "67ac401bbc7590b",
   "execution_count": 59
  },
  {
   "cell_type": "code",
   "outputs": [],
   "source": [
    "sales_train, sales_test = sales.query('date_id < 1580'), sales.query('date_id >= 1580')\n",
    "calendar_train, calendar_test = calendar.query('date_id < 1580'), calendar.query('date_id >= 1580')"
   ],
   "metadata": {
    "collapsed": false,
    "ExecuteTime": {
     "end_time": "2024-06-08T04:06:57.958473Z",
     "start_time": "2024-06-08T04:06:57.881931Z"
    }
   },
   "id": "533b5081fdb43e43",
   "execution_count": 60
  },
  {
   "cell_type": "code",
   "outputs": [],
   "source": [],
   "metadata": {
    "collapsed": false,
    "ExecuteTime": {
     "end_time": "2024-06-08T04:06:57.973675Z",
     "start_time": "2024-06-08T04:06:57.960592Z"
    }
   },
   "id": "8cdcd81f8b456c84",
   "execution_count": 60
  },
  {
   "cell_type": "code",
   "outputs": [
    {
     "data": {
      "text/plain": "            wm_yr_wk    weekday  wday  month  year         event_name_1  \\\ndate                                                                      \n2011-01-29     11101   Saturday     1      1  2011                  NaN   \n2011-01-30     11101     Sunday     2      1  2011                  NaN   \n2011-01-31     11101     Monday     3      1  2011                  NaN   \n2011-02-01     11101    Tuesday     4      2  2011                  NaN   \n2011-02-02     11101  Wednesday     5      2  2011                  NaN   \n...              ...        ...   ...    ...   ...                  ...   \n2016-01-17     11551     Sunday     2      1  2016                  NaN   \n2016-01-18     11551     Monday     3      1  2016  MartinLutherKingDay   \n2016-01-19     11551    Tuesday     4      1  2016                  NaN   \n2016-01-20     11551  Wednesday     5      1  2016                  NaN   \n2016-01-21     11551   Thursday     6      1  2016                  NaN   \n\n           event_type_1 event_name_2 event_type_2  date_id  CASHBACK_STORE_1  \\\ndate                                                                           \n2011-01-29          NaN          NaN          NaN        1                 0   \n2011-01-30          NaN          NaN          NaN        2                 0   \n2011-01-31          NaN          NaN          NaN        3                 0   \n2011-02-01          NaN          NaN          NaN        4                 0   \n2011-02-02          NaN          NaN          NaN        5                 1   \n...                 ...          ...          ...      ...               ...   \n2016-01-17          NaN          NaN          NaN     1815                 0   \n2016-01-18     National          NaN          NaN     1816                 0   \n2016-01-19          NaN          NaN          NaN     1817                 0   \n2016-01-20          NaN          NaN          NaN     1818                 0   \n2016-01-21          NaN          NaN          NaN     1819                 0   \n\n            CASHBACK_STORE_2  CASHBACK_STORE_3  \ndate                                            \n2011-01-29                 0                 0  \n2011-01-30                 0                 0  \n2011-01-31                 0                 0  \n2011-02-01                 1                 1  \n2011-02-02                 1                 0  \n...                      ...               ...  \n2016-01-17                 0                 0  \n2016-01-18                 0                 0  \n2016-01-19                 0                 0  \n2016-01-20                 0                 0  \n2016-01-21                 0                 0  \n\n[1819 rows x 13 columns]",
      "text/html": "<div>\n<style scoped>\n    .dataframe tbody tr th:only-of-type {\n        vertical-align: middle;\n    }\n\n    .dataframe tbody tr th {\n        vertical-align: top;\n    }\n\n    .dataframe thead th {\n        text-align: right;\n    }\n</style>\n<table border=\"1\" class=\"dataframe\">\n  <thead>\n    <tr style=\"text-align: right;\">\n      <th></th>\n      <th>wm_yr_wk</th>\n      <th>weekday</th>\n      <th>wday</th>\n      <th>month</th>\n      <th>year</th>\n      <th>event_name_1</th>\n      <th>event_type_1</th>\n      <th>event_name_2</th>\n      <th>event_type_2</th>\n      <th>date_id</th>\n      <th>CASHBACK_STORE_1</th>\n      <th>CASHBACK_STORE_2</th>\n      <th>CASHBACK_STORE_3</th>\n    </tr>\n    <tr>\n      <th>date</th>\n      <th></th>\n      <th></th>\n      <th></th>\n      <th></th>\n      <th></th>\n      <th></th>\n      <th></th>\n      <th></th>\n      <th></th>\n      <th></th>\n      <th></th>\n      <th></th>\n      <th></th>\n    </tr>\n  </thead>\n  <tbody>\n    <tr>\n      <th>2011-01-29</th>\n      <td>11101</td>\n      <td>Saturday</td>\n      <td>1</td>\n      <td>1</td>\n      <td>2011</td>\n      <td>NaN</td>\n      <td>NaN</td>\n      <td>NaN</td>\n      <td>NaN</td>\n      <td>1</td>\n      <td>0</td>\n      <td>0</td>\n      <td>0</td>\n    </tr>\n    <tr>\n      <th>2011-01-30</th>\n      <td>11101</td>\n      <td>Sunday</td>\n      <td>2</td>\n      <td>1</td>\n      <td>2011</td>\n      <td>NaN</td>\n      <td>NaN</td>\n      <td>NaN</td>\n      <td>NaN</td>\n      <td>2</td>\n      <td>0</td>\n      <td>0</td>\n      <td>0</td>\n    </tr>\n    <tr>\n      <th>2011-01-31</th>\n      <td>11101</td>\n      <td>Monday</td>\n      <td>3</td>\n      <td>1</td>\n      <td>2011</td>\n      <td>NaN</td>\n      <td>NaN</td>\n      <td>NaN</td>\n      <td>NaN</td>\n      <td>3</td>\n      <td>0</td>\n      <td>0</td>\n      <td>0</td>\n    </tr>\n    <tr>\n      <th>2011-02-01</th>\n      <td>11101</td>\n      <td>Tuesday</td>\n      <td>4</td>\n      <td>2</td>\n      <td>2011</td>\n      <td>NaN</td>\n      <td>NaN</td>\n      <td>NaN</td>\n      <td>NaN</td>\n      <td>4</td>\n      <td>0</td>\n      <td>1</td>\n      <td>1</td>\n    </tr>\n    <tr>\n      <th>2011-02-02</th>\n      <td>11101</td>\n      <td>Wednesday</td>\n      <td>5</td>\n      <td>2</td>\n      <td>2011</td>\n      <td>NaN</td>\n      <td>NaN</td>\n      <td>NaN</td>\n      <td>NaN</td>\n      <td>5</td>\n      <td>1</td>\n      <td>1</td>\n      <td>0</td>\n    </tr>\n    <tr>\n      <th>...</th>\n      <td>...</td>\n      <td>...</td>\n      <td>...</td>\n      <td>...</td>\n      <td>...</td>\n      <td>...</td>\n      <td>...</td>\n      <td>...</td>\n      <td>...</td>\n      <td>...</td>\n      <td>...</td>\n      <td>...</td>\n      <td>...</td>\n    </tr>\n    <tr>\n      <th>2016-01-17</th>\n      <td>11551</td>\n      <td>Sunday</td>\n      <td>2</td>\n      <td>1</td>\n      <td>2016</td>\n      <td>NaN</td>\n      <td>NaN</td>\n      <td>NaN</td>\n      <td>NaN</td>\n      <td>1815</td>\n      <td>0</td>\n      <td>0</td>\n      <td>0</td>\n    </tr>\n    <tr>\n      <th>2016-01-18</th>\n      <td>11551</td>\n      <td>Monday</td>\n      <td>3</td>\n      <td>1</td>\n      <td>2016</td>\n      <td>MartinLutherKingDay</td>\n      <td>National</td>\n      <td>NaN</td>\n      <td>NaN</td>\n      <td>1816</td>\n      <td>0</td>\n      <td>0</td>\n      <td>0</td>\n    </tr>\n    <tr>\n      <th>2016-01-19</th>\n      <td>11551</td>\n      <td>Tuesday</td>\n      <td>4</td>\n      <td>1</td>\n      <td>2016</td>\n      <td>NaN</td>\n      <td>NaN</td>\n      <td>NaN</td>\n      <td>NaN</td>\n      <td>1817</td>\n      <td>0</td>\n      <td>0</td>\n      <td>0</td>\n    </tr>\n    <tr>\n      <th>2016-01-20</th>\n      <td>11551</td>\n      <td>Wednesday</td>\n      <td>5</td>\n      <td>1</td>\n      <td>2016</td>\n      <td>NaN</td>\n      <td>NaN</td>\n      <td>NaN</td>\n      <td>NaN</td>\n      <td>1818</td>\n      <td>0</td>\n      <td>0</td>\n      <td>0</td>\n    </tr>\n    <tr>\n      <th>2016-01-21</th>\n      <td>11551</td>\n      <td>Thursday</td>\n      <td>6</td>\n      <td>1</td>\n      <td>2016</td>\n      <td>NaN</td>\n      <td>NaN</td>\n      <td>NaN</td>\n      <td>NaN</td>\n      <td>1819</td>\n      <td>0</td>\n      <td>0</td>\n      <td>0</td>\n    </tr>\n  </tbody>\n</table>\n<p>1819 rows × 13 columns</p>\n</div>"
     },
     "execution_count": 61,
     "metadata": {},
     "output_type": "execute_result"
    }
   ],
   "source": [
    "calendar"
   ],
   "metadata": {
    "collapsed": false,
    "ExecuteTime": {
     "end_time": "2024-06-08T04:06:58.082140Z",
     "start_time": "2024-06-08T04:06:57.974767Z"
    }
   },
   "id": "b28a76452fe43a7b",
   "execution_count": 61
  },
  {
   "cell_type": "code",
   "outputs": [],
   "source": [
    "selected_store = 'STORE_1'\n",
    "mttf = MultiTableTransformer(store_name=selected_store)\n",
    "imputer_wrapped = SelectiveImputer(imputer = IterativeImputer())\n",
    "joiner = Joiner()\n",
    "pipeline = Pipeline([\n",
    "    ('multi_table_transformer', mttf),\n",
    "    ('selective_imputer', imputer_wrapped),\n",
    "    ('joiner', joiner),\n",
    "    ('holiday_extractor', HolydayExtractor())\n",
    "])\n",
    "\n",
    "train_dict = {'sales': sales_train, 'prices': prices, 'calendar': calendar_train}\n",
    "train_dict = pipeline.fit_transform(train_dict)"
   ],
   "metadata": {
    "collapsed": false,
    "ExecuteTime": {
     "end_time": "2024-06-08T04:06:58.253181Z",
     "start_time": "2024-06-08T04:06:58.083197Z"
    }
   },
   "id": "149d04916f76dd0e",
   "execution_count": 62
  },
  {
   "cell_type": "code",
   "outputs": [
    {
     "data": {
      "text/plain": "            wm_yr_wk event_name_1 event_type_1 event_name_2 event_type_2  \\\ndate                                                                       \n2011-01-29     11101      noevent       notype      noevent       notype   \n2011-01-30     11101      noevent       notype      noevent       notype   \n2011-01-31     11101      noevent       notype      noevent       notype   \n2011-02-01     11101      noevent       notype      noevent       notype   \n2011-02-02     11101      noevent       notype      noevent       notype   \n...              ...          ...          ...          ...          ...   \n2015-05-22     11516      noevent       notype      noevent       notype   \n2015-05-23     11517      noevent       notype      noevent       notype   \n2015-05-24     11517      noevent       notype      noevent       notype   \n2015-05-25     11517  MemorialDay     National      noevent       notype   \n2015-05-26     11517      noevent       notype      noevent       notype   \n\n            date_id  CASHBACK_STORE_1  \ndate                                   \n2011-01-29        1                 0  \n2011-01-30        2                 0  \n2011-01-31        3                 0  \n2011-02-01        4                 0  \n2011-02-02        5                 1  \n...             ...               ...  \n2015-05-22     1575                 0  \n2015-05-23     1576                 0  \n2015-05-24     1577                 0  \n2015-05-25     1578                 0  \n2015-05-26     1579                 0  \n\n[1579 rows x 7 columns]",
      "text/html": "<div>\n<style scoped>\n    .dataframe tbody tr th:only-of-type {\n        vertical-align: middle;\n    }\n\n    .dataframe tbody tr th {\n        vertical-align: top;\n    }\n\n    .dataframe thead th {\n        text-align: right;\n    }\n</style>\n<table border=\"1\" class=\"dataframe\">\n  <thead>\n    <tr style=\"text-align: right;\">\n      <th></th>\n      <th>wm_yr_wk</th>\n      <th>event_name_1</th>\n      <th>event_type_1</th>\n      <th>event_name_2</th>\n      <th>event_type_2</th>\n      <th>date_id</th>\n      <th>CASHBACK_STORE_1</th>\n    </tr>\n    <tr>\n      <th>date</th>\n      <th></th>\n      <th></th>\n      <th></th>\n      <th></th>\n      <th></th>\n      <th></th>\n      <th></th>\n    </tr>\n  </thead>\n  <tbody>\n    <tr>\n      <th>2011-01-29</th>\n      <td>11101</td>\n      <td>noevent</td>\n      <td>notype</td>\n      <td>noevent</td>\n      <td>notype</td>\n      <td>1</td>\n      <td>0</td>\n    </tr>\n    <tr>\n      <th>2011-01-30</th>\n      <td>11101</td>\n      <td>noevent</td>\n      <td>notype</td>\n      <td>noevent</td>\n      <td>notype</td>\n      <td>2</td>\n      <td>0</td>\n    </tr>\n    <tr>\n      <th>2011-01-31</th>\n      <td>11101</td>\n      <td>noevent</td>\n      <td>notype</td>\n      <td>noevent</td>\n      <td>notype</td>\n      <td>3</td>\n      <td>0</td>\n    </tr>\n    <tr>\n      <th>2011-02-01</th>\n      <td>11101</td>\n      <td>noevent</td>\n      <td>notype</td>\n      <td>noevent</td>\n      <td>notype</td>\n      <td>4</td>\n      <td>0</td>\n    </tr>\n    <tr>\n      <th>2011-02-02</th>\n      <td>11101</td>\n      <td>noevent</td>\n      <td>notype</td>\n      <td>noevent</td>\n      <td>notype</td>\n      <td>5</td>\n      <td>1</td>\n    </tr>\n    <tr>\n      <th>...</th>\n      <td>...</td>\n      <td>...</td>\n      <td>...</td>\n      <td>...</td>\n      <td>...</td>\n      <td>...</td>\n      <td>...</td>\n    </tr>\n    <tr>\n      <th>2015-05-22</th>\n      <td>11516</td>\n      <td>noevent</td>\n      <td>notype</td>\n      <td>noevent</td>\n      <td>notype</td>\n      <td>1575</td>\n      <td>0</td>\n    </tr>\n    <tr>\n      <th>2015-05-23</th>\n      <td>11517</td>\n      <td>noevent</td>\n      <td>notype</td>\n      <td>noevent</td>\n      <td>notype</td>\n      <td>1576</td>\n      <td>0</td>\n    </tr>\n    <tr>\n      <th>2015-05-24</th>\n      <td>11517</td>\n      <td>noevent</td>\n      <td>notype</td>\n      <td>noevent</td>\n      <td>notype</td>\n      <td>1577</td>\n      <td>0</td>\n    </tr>\n    <tr>\n      <th>2015-05-25</th>\n      <td>11517</td>\n      <td>MemorialDay</td>\n      <td>National</td>\n      <td>noevent</td>\n      <td>notype</td>\n      <td>1578</td>\n      <td>0</td>\n    </tr>\n    <tr>\n      <th>2015-05-26</th>\n      <td>11517</td>\n      <td>noevent</td>\n      <td>notype</td>\n      <td>noevent</td>\n      <td>notype</td>\n      <td>1579</td>\n      <td>0</td>\n    </tr>\n  </tbody>\n</table>\n<p>1579 rows × 7 columns</p>\n</div>"
     },
     "execution_count": 63,
     "metadata": {},
     "output_type": "execute_result"
    }
   ],
   "source": [
    "train_dict['calendar']"
   ],
   "metadata": {
    "collapsed": false,
    "ExecuteTime": {
     "end_time": "2024-06-08T04:06:58.378272Z",
     "start_time": "2024-06-08T04:06:58.254226Z"
    }
   },
   "id": "7c3dcab443ba5e59",
   "execution_count": 63
  },
  {
   "cell_type": "code",
   "outputs": [],
   "source": [
    "model = ModelClass(ndim=15, data_pipline=pipeline)"
   ],
   "metadata": {
    "collapsed": false,
    "ExecuteTime": {
     "end_time": "2024-06-08T04:06:58.486809Z",
     "start_time": "2024-06-08T04:06:58.380355Z"
    }
   },
   "id": "7cc20877f46eb9af",
   "execution_count": 64
  },
  {
   "cell_type": "code",
   "outputs": [],
   "source": [
    "test_dict = {'sales': sales_test, 'prices': prices, 'calendar': calendar_test}\n",
    "test_dict = model.data_pipeline.transform(test_dict)"
   ],
   "metadata": {
    "collapsed": false,
    "ExecuteTime": {
     "end_time": "2024-06-08T04:06:58.625732Z",
     "start_time": "2024-06-08T04:06:58.488904Z"
    }
   },
   "id": "d899b6fdc9a6aca3",
   "execution_count": 65
  },
  {
   "cell_type": "code",
   "outputs": [
    {
     "data": {
      "text/plain": "                holiday         ds  lower_window  upper_window\n0        NBAFinalsStart 2015-06-04            -3             3\n1          NBAFinalsEnd 2015-06-16            -3             3\n2        Ramadan starts 2015-06-18            -3             3\n3          Father's day 2015-06-21            -3             3\n4       IndependenceDay 2015-07-04            -3             3\n5           Eid al-Fitr 2015-07-18            -3             3\n6              LaborDay 2015-09-07            -3             3\n7             EidAlAdha 2015-09-24            -3             3\n8           ColumbusDay 2015-10-12            -3             3\n9             Halloween 2015-10-31            -3             3\n10          VeteransDay 2015-11-11            -3             3\n11         Thanksgiving 2015-11-26            -3             3\n12         Chanukah End 2015-12-14            -3             3\n13            Christmas 2015-12-25            -3             3\n14              NewYear 2016-01-01            -3             3\n15    OrthodoxChristmas 2016-01-07            -3             3\n16  MartinLutherKingDay 2016-01-18            -3             3",
      "text/html": "<div>\n<style scoped>\n    .dataframe tbody tr th:only-of-type {\n        vertical-align: middle;\n    }\n\n    .dataframe tbody tr th {\n        vertical-align: top;\n    }\n\n    .dataframe thead th {\n        text-align: right;\n    }\n</style>\n<table border=\"1\" class=\"dataframe\">\n  <thead>\n    <tr style=\"text-align: right;\">\n      <th></th>\n      <th>holiday</th>\n      <th>ds</th>\n      <th>lower_window</th>\n      <th>upper_window</th>\n    </tr>\n  </thead>\n  <tbody>\n    <tr>\n      <th>0</th>\n      <td>NBAFinalsStart</td>\n      <td>2015-06-04</td>\n      <td>-3</td>\n      <td>3</td>\n    </tr>\n    <tr>\n      <th>1</th>\n      <td>NBAFinalsEnd</td>\n      <td>2015-06-16</td>\n      <td>-3</td>\n      <td>3</td>\n    </tr>\n    <tr>\n      <th>2</th>\n      <td>Ramadan starts</td>\n      <td>2015-06-18</td>\n      <td>-3</td>\n      <td>3</td>\n    </tr>\n    <tr>\n      <th>3</th>\n      <td>Father's day</td>\n      <td>2015-06-21</td>\n      <td>-3</td>\n      <td>3</td>\n    </tr>\n    <tr>\n      <th>4</th>\n      <td>IndependenceDay</td>\n      <td>2015-07-04</td>\n      <td>-3</td>\n      <td>3</td>\n    </tr>\n    <tr>\n      <th>5</th>\n      <td>Eid al-Fitr</td>\n      <td>2015-07-18</td>\n      <td>-3</td>\n      <td>3</td>\n    </tr>\n    <tr>\n      <th>6</th>\n      <td>LaborDay</td>\n      <td>2015-09-07</td>\n      <td>-3</td>\n      <td>3</td>\n    </tr>\n    <tr>\n      <th>7</th>\n      <td>EidAlAdha</td>\n      <td>2015-09-24</td>\n      <td>-3</td>\n      <td>3</td>\n    </tr>\n    <tr>\n      <th>8</th>\n      <td>ColumbusDay</td>\n      <td>2015-10-12</td>\n      <td>-3</td>\n      <td>3</td>\n    </tr>\n    <tr>\n      <th>9</th>\n      <td>Halloween</td>\n      <td>2015-10-31</td>\n      <td>-3</td>\n      <td>3</td>\n    </tr>\n    <tr>\n      <th>10</th>\n      <td>VeteransDay</td>\n      <td>2015-11-11</td>\n      <td>-3</td>\n      <td>3</td>\n    </tr>\n    <tr>\n      <th>11</th>\n      <td>Thanksgiving</td>\n      <td>2015-11-26</td>\n      <td>-3</td>\n      <td>3</td>\n    </tr>\n    <tr>\n      <th>12</th>\n      <td>Chanukah End</td>\n      <td>2015-12-14</td>\n      <td>-3</td>\n      <td>3</td>\n    </tr>\n    <tr>\n      <th>13</th>\n      <td>Christmas</td>\n      <td>2015-12-25</td>\n      <td>-3</td>\n      <td>3</td>\n    </tr>\n    <tr>\n      <th>14</th>\n      <td>NewYear</td>\n      <td>2016-01-01</td>\n      <td>-3</td>\n      <td>3</td>\n    </tr>\n    <tr>\n      <th>15</th>\n      <td>OrthodoxChristmas</td>\n      <td>2016-01-07</td>\n      <td>-3</td>\n      <td>3</td>\n    </tr>\n    <tr>\n      <th>16</th>\n      <td>MartinLutherKingDay</td>\n      <td>2016-01-18</td>\n      <td>-3</td>\n      <td>3</td>\n    </tr>\n  </tbody>\n</table>\n</div>"
     },
     "execution_count": 66,
     "metadata": {},
     "output_type": "execute_result"
    }
   ],
   "source": [
    "test_dict['holidays']"
   ],
   "metadata": {
    "collapsed": false,
    "ExecuteTime": {
     "end_time": "2024-06-08T04:06:58.702331Z",
     "start_time": "2024-06-08T04:06:58.626781Z"
    }
   },
   "id": "1cb19cc4b40d79b9",
   "execution_count": 66
  },
  {
   "cell_type": "code",
   "outputs": [],
   "source": [],
   "metadata": {
    "collapsed": false,
    "ExecuteTime": {
     "end_time": "2024-06-08T04:06:58.717618Z",
     "start_time": "2024-06-08T04:06:58.703480Z"
    }
   },
   "id": "f774c19573c12f25",
   "execution_count": 66
  },
  {
   "cell_type": "code",
   "outputs": [
    {
     "name": "stderr",
     "output_type": "stream",
     "text": [
      "07:07:00 - cmdstanpy - INFO - Chain [1] start processing\n",
      "07:07:00 - cmdstanpy - INFO - Chain [1] done processing\n",
      "07:07:01 - cmdstanpy - INFO - Chain [1] start processing\n",
      "07:07:01 - cmdstanpy - INFO - Chain [1] done processing\n",
      "07:07:01 - cmdstanpy - INFO - Chain [1] start processing\n",
      "07:07:02 - cmdstanpy - INFO - Chain [1] done processing\n",
      "07:07:02 - cmdstanpy - INFO - Chain [1] start processing\n",
      "07:07:02 - cmdstanpy - INFO - Chain [1] done processing\n",
      "07:07:03 - cmdstanpy - INFO - Chain [1] start processing\n",
      "07:07:03 - cmdstanpy - INFO - Chain [1] done processing\n",
      "07:07:04 - cmdstanpy - INFO - Chain [1] start processing\n",
      "07:07:04 - cmdstanpy - INFO - Chain [1] done processing\n",
      "07:07:04 - cmdstanpy - INFO - Chain [1] start processing\n",
      "07:07:05 - cmdstanpy - INFO - Chain [1] done processing\n",
      "07:07:05 - cmdstanpy - INFO - Chain [1] start processing\n",
      "07:07:05 - cmdstanpy - INFO - Chain [1] done processing\n",
      "07:07:06 - cmdstanpy - INFO - Chain [1] start processing\n",
      "07:07:06 - cmdstanpy - INFO - Chain [1] done processing\n",
      "07:07:06 - cmdstanpy - INFO - Chain [1] start processing\n",
      "07:07:07 - cmdstanpy - INFO - Chain [1] done processing\n",
      "07:07:07 - cmdstanpy - INFO - Chain [1] start processing\n",
      "07:07:07 - cmdstanpy - INFO - Chain [1] done processing\n",
      "07:07:08 - cmdstanpy - INFO - Chain [1] start processing\n",
      "07:07:08 - cmdstanpy - INFO - Chain [1] done processing\n",
      "07:07:09 - cmdstanpy - INFO - Chain [1] start processing\n",
      "07:07:09 - cmdstanpy - INFO - Chain [1] done processing\n",
      "07:07:09 - cmdstanpy - INFO - Chain [1] start processing\n",
      "07:07:09 - cmdstanpy - INFO - Chain [1] done processing\n",
      "07:07:10 - cmdstanpy - INFO - Chain [1] start processing\n",
      "07:07:10 - cmdstanpy - INFO - Chain [1] done processing\n"
     ]
    }
   ],
   "source": [
    "# Не знаю стоило ли делать отдельные методы predict_Q predict_W и predict_M для квартала недели и месяца соответсвенно, просто указываем горизонт и усе\n",
    "model.fit_prophets(train_dict)\n",
    "model.fit_catboost(train_dict)\n",
    "model_preds_prophet = model.predict_prophets(horizon = 90)\n",
    "model_preds_boost = model.predict_catboost(future_df = test_dict,horizon = 90)"
   ],
   "metadata": {
    "collapsed": false,
    "ExecuteTime": {
     "end_time": "2024-06-08T04:07:25.211208Z",
     "start_time": "2024-06-08T04:06:58.718670Z"
    }
   },
   "id": "f746d561123d21d2",
   "execution_count": 67
  },
  {
   "cell_type": "code",
   "outputs": [
    {
     "data": {
      "text/plain": "sales_064_hat     1.505016\nsales_065_hat     1.386647\nsales_090_hat    68.199803\nsales_252_hat    11.402210\nsales_325_hat     5.825942\nsales_339_hat     3.131902\nsales_376_hat     1.648613\nsales_546_hat    10.073199\nsales_547_hat     6.454265\nsales_555_hat    10.594483\nsales_584_hat     2.271421\nsales_586_hat    12.258558\nsales_587_hat    12.873556\nsales_714_hat    13.017843\nsales_727_hat     9.470507\ndtype: float64"
     },
     "execution_count": 68,
     "metadata": {},
     "output_type": "execute_result"
    }
   ],
   "source": [
    "model.eval_preds(model_preds_prophet[-90:], test_dict['sales'].iloc[:90, :].values, test_dict['prices'].iloc[:90, :].values)"
   ],
   "metadata": {
    "collapsed": false,
    "ExecuteTime": {
     "end_time": "2024-06-08T04:07:25.272930Z",
     "start_time": "2024-06-08T04:07:25.212209Z"
    }
   },
   "id": "bb765beb37ba0334",
   "execution_count": 68
  },
  {
   "cell_type": "code",
   "outputs": [
    {
     "data": {
      "text/plain": "sales_064_hat     1.502364\nsales_065_hat     1.393447\nsales_090_hat    49.475452\nsales_252_hat    12.230541\nsales_325_hat     5.436692\nsales_339_hat     3.051883\nsales_376_hat     1.594980\nsales_546_hat     8.836106\nsales_547_hat     5.722880\nsales_555_hat    10.117502\nsales_584_hat     1.906679\nsales_586_hat    12.519026\nsales_587_hat    11.690620\nsales_714_hat    12.237302\nsales_727_hat     8.378240\ndtype: float64"
     },
     "execution_count": 69,
     "metadata": {},
     "output_type": "execute_result"
    }
   ],
   "source": [
    "model.eval_preds(model_preds_boost.iloc[:90, :], test_dict['sales'].iloc[:90, :].values, test_dict['prices'].iloc[:90, :].values)"
   ],
   "metadata": {
    "collapsed": false,
    "ExecuteTime": {
     "end_time": "2024-06-08T04:07:25.351864Z",
     "start_time": "2024-06-08T04:07:25.274112Z"
    }
   },
   "id": "fc371d854c7f459c",
   "execution_count": 69
  },
  {
   "cell_type": "code",
   "outputs": [
    {
     "data": {
      "text/plain": "sales_064_hat     0.741918\nsales_065_hat     1.270535\nsales_090_hat    49.882574\nsales_252_hat    10.922363\nsales_325_hat     6.794398\nsales_339_hat     3.296223\nsales_376_hat     1.358909\nsales_546_hat     6.907932\nsales_547_hat     5.795773\nsales_555_hat     9.488720\nsales_584_hat     2.464225\nsales_586_hat    11.140522\nsales_587_hat    11.367325\nsales_714_hat    12.937261\nsales_727_hat     7.093041\ndtype: float64"
     },
     "execution_count": 70,
     "metadata": {},
     "output_type": "execute_result"
    }
   ],
   "source": [
    "model.eval_preds(model_preds_prophet[-90:-60], test_dict['sales'].iloc[:30, :].values, test_dict['prices'].iloc[:30, :].values)"
   ],
   "metadata": {
    "collapsed": false,
    "ExecuteTime": {
     "end_time": "2024-06-08T04:07:25.414087Z",
     "start_time": "2024-06-08T04:07:25.353125Z"
    }
   },
   "id": "1c56f5ad47d76389",
   "execution_count": 70
  },
  {
   "cell_type": "code",
   "outputs": [
    {
     "data": {
      "text/plain": "sales_064_hat     0.732778\nsales_065_hat     1.248593\nsales_090_hat    50.693899\nsales_252_hat    11.939361\nsales_325_hat     4.805922\nsales_339_hat     3.165199\nsales_376_hat     1.326399\nsales_546_hat     6.703943\nsales_547_hat     4.872914\nsales_555_hat     9.142886\nsales_584_hat     1.595319\nsales_586_hat    10.099245\nsales_587_hat    10.669710\nsales_714_hat    11.949168\nsales_727_hat     5.742876\ndtype: float64"
     },
     "execution_count": 71,
     "metadata": {},
     "output_type": "execute_result"
    }
   ],
   "source": [
    "model.eval_preds(model_preds_boost.iloc[:30, :], test_dict['sales'].iloc[:30, :].values, test_dict['prices'].iloc[:30, :].values)"
   ],
   "metadata": {
    "collapsed": false,
    "ExecuteTime": {
     "end_time": "2024-06-08T04:07:25.477399Z",
     "start_time": "2024-06-08T04:07:25.414104Z"
    }
   },
   "id": "f0f1e9ac3248a835",
   "execution_count": 71
  },
  {
   "cell_type": "code",
   "outputs": [
    {
     "data": {
      "text/plain": "sales_064_hat     0.801000\nsales_065_hat     0.743477\nsales_090_hat    17.142712\nsales_252_hat     9.641696\nsales_325_hat     5.862378\nsales_339_hat     2.043686\nsales_376_hat     1.771925\nsales_546_hat     4.678164\nsales_547_hat     6.239948\nsales_555_hat    11.199207\nsales_584_hat     2.437726\nsales_586_hat    15.063999\nsales_587_hat     7.621767\nsales_714_hat    12.793897\nsales_727_hat     2.615928\ndtype: float64"
     },
     "execution_count": 72,
     "metadata": {},
     "output_type": "execute_result"
    }
   ],
   "source": [
    "model.eval_preds(model_preds_prophet[-90:-83], test_dict['sales'].iloc[:7, :].values, test_dict['prices'].iloc[:7, :].values)"
   ],
   "metadata": {
    "collapsed": false,
    "ExecuteTime": {
     "end_time": "2024-06-08T04:07:25.539511Z",
     "start_time": "2024-06-08T04:07:25.479579Z"
    }
   },
   "id": "9bc045cabc691271",
   "execution_count": 72
  },
  {
   "cell_type": "code",
   "outputs": [
    {
     "data": {
      "text/plain": "sales_064_hat     0.722728\nsales_065_hat     0.501247\nsales_090_hat    51.591757\nsales_252_hat     5.690289\nsales_325_hat     3.823756\nsales_339_hat     2.423007\nsales_376_hat     1.635279\nsales_546_hat     3.667685\nsales_547_hat     5.330783\nsales_555_hat    10.823207\nsales_584_hat     1.698718\nsales_586_hat    11.470899\nsales_587_hat     8.409684\nsales_714_hat    10.655255\nsales_727_hat     4.183656\ndtype: float64"
     },
     "execution_count": 73,
     "metadata": {},
     "output_type": "execute_result"
    }
   ],
   "source": [
    "model.eval_preds(model_preds_boost.iloc[:7, :], test_dict['sales'].iloc[:7, :].values, test_dict['prices'].iloc[:7, :].values)"
   ],
   "metadata": {
    "collapsed": false,
    "ExecuteTime": {
     "end_time": "2024-06-08T04:07:25.618833Z",
     "start_time": "2024-06-08T04:07:25.539693Z"
    }
   },
   "id": "4852ca23b671ba3d",
   "execution_count": 73
  },
  {
   "cell_type": "markdown",
   "source": [
    "Бустинг ощутимо хуже в краткосрок, плохо, но если надо на квартал прям то лучше с ним.\n",
    "Реализованный класс позволит refit-ить prophet-ы не трогая градиентные бустинги (например раз в 1 неделю)\n",
    "А бустинги можно например раз в квартал, таким образом решим пробелему обучения в онлайне.\n",
    "\n",
    "В качестве единой метрики могу предложить сумму предиктов (они взвешаны по цене, получается средняя разница в доходе и предсказаниях.\n",
    " "
   ],
   "metadata": {
    "collapsed": false
   },
   "id": "519aeaff994a0889"
  },
  {
   "cell_type": "code",
   "outputs": [
    {
     "data": {
      "text/plain": "      prophet    stacking\nQ  170.113964  146.093713\nM  141.461718  150.566326\nW  100.657509  147.011272",
      "text/html": "<div>\n<style scoped>\n    .dataframe tbody tr th:only-of-type {\n        vertical-align: middle;\n    }\n\n    .dataframe tbody tr th {\n        vertical-align: top;\n    }\n\n    .dataframe thead th {\n        text-align: right;\n    }\n</style>\n<table border=\"1\" class=\"dataframe\">\n  <thead>\n    <tr style=\"text-align: right;\">\n      <th></th>\n      <th>prophet</th>\n      <th>stacking</th>\n    </tr>\n  </thead>\n  <tbody>\n    <tr>\n      <th>Q</th>\n      <td>170.113964</td>\n      <td>146.093713</td>\n    </tr>\n    <tr>\n      <th>M</th>\n      <td>141.461718</td>\n      <td>150.566326</td>\n    </tr>\n    <tr>\n      <th>W</th>\n      <td>100.657509</td>\n      <td>147.011272</td>\n    </tr>\n  </tbody>\n</table>\n</div>"
     },
     "execution_count": 74,
     "metadata": {},
     "output_type": "execute_result"
    }
   ],
   "source": [
    "prophet_Q = model.eval_preds(model_preds_prophet[-90:], test_dict['sales'].iloc[:90, :].values, test_dict['prices'].iloc[:90, :].values).values.sum()\n",
    "prophet_M = model.eval_preds(model_preds_prophet[-90:-60], test_dict['sales'].iloc[:30, :].values, test_dict['prices'].iloc[:30, :].values).values.sum()\n",
    "prophet_W = model.eval_preds(model_preds_prophet[-90:-83], test_dict['sales'].iloc[:7, :].values, test_dict['prices'].iloc[:7, :].values).values.sum()\n",
    "\n",
    "stack_Q = model.eval_preds(model_preds_boost[-90:], test_dict['sales'].iloc[:90, :].values, test_dict['prices'].iloc[:90, :].values).values.sum()\n",
    "stack_M = model.eval_preds(model_preds_boost[-30:], test_dict['sales'].iloc[:30, :].values, test_dict['prices'].iloc[:30, :].values).values.sum()\n",
    "stack_W = model.eval_preds(model_preds_boost[-7:], test_dict['sales'].iloc[:7, :].values, test_dict['prices'].iloc[:7, :].values).values.sum()\n",
    "\n",
    "pd.DataFrame([[prophet_Q, prophet_M, prophet_W], [stack_Q, stack_M, stack_W]], columns=['Q', 'M', 'W'], index = ['prophet', 'stacking']).T"
   ],
   "metadata": {
    "collapsed": false,
    "ExecuteTime": {
     "end_time": "2024-06-08T04:07:25.697861Z",
     "start_time": "2024-06-08T04:07:25.619864Z"
    }
   },
   "id": "31189e09b6a6b83d",
   "execution_count": 74
  },
  {
   "cell_type": "markdown",
   "source": [
    "Бустинг ощутимо хуже в краткосрок, плохо, но если надо на квартал прям то лучше с ним"
   ],
   "metadata": {
    "collapsed": false
   },
   "id": "b2df4489820f371c"
  },
  {
   "cell_type": "code",
   "outputs": [
    {
     "data": {
      "text/plain": "[<matplotlib.lines.Line2D at 0x2168d55cf10>]"
     },
     "execution_count": 75,
     "metadata": {},
     "output_type": "execute_result"
    },
    {
     "data": {
      "text/plain": "<Figure size 640x480 with 1 Axes>",
      "image/png": "[encoded data removed]"
     },
     "metadata": {},
     "output_type": "display_data"
    }
   ],
   "source": [
    "plt.plot(model_preds_prophet['sales_555_hat'][-90:].values[:90], color = 'red')\n",
    "plt.plot(model_preds_boost['sales_555_hat'].values[:90], color = 'blue')\n",
    "plt.plot(test_dict['sales']['sales_555'].values[:90], color = 'green')"
   ],
   "metadata": {
    "collapsed": false,
    "ExecuteTime": {
     "end_time": "2024-06-08T04:07:25.868571Z",
     "start_time": "2024-06-08T04:07:25.699070Z"
    }
   },
   "id": "9a0758a615b3f28e",
   "execution_count": 75
  },
  {
   "cell_type": "markdown",
   "source": [
    "Сохранять можно вот так"
   ],
   "metadata": {
    "collapsed": false
   },
   "id": "846efa5db96a9d58"
  },
  {
   "cell_type": "code",
   "outputs": [],
   "source": [
    "model.save_model(filepath='../models/model.joblib')"
   ],
   "metadata": {
    "collapsed": false,
    "ExecuteTime": {
     "end_time": "2024-06-08T04:07:26.039801Z",
     "start_time": "2024-06-08T04:07:25.869640Z"
    }
   },
   "id": "6637378358f88590",
   "execution_count": 76
  },
  {
   "cell_type": "code",
   "outputs": [
    {
     "data": {
      "text/plain": "<modules.ModelClass.ModelClass at 0x2168c78fd60>"
     },
     "execution_count": 77,
     "metadata": {},
     "output_type": "execute_result"
    }
   ],
   "source": [
    "model_2 = ModelClass()\n",
    "model_2.load_model(filepath='../models/model.joblib')"
   ],
   "metadata": {
    "collapsed": false,
    "ExecuteTime": {
     "end_time": "2024-06-08T04:07:26.196434Z",
     "start_time": "2024-06-08T04:07:26.040879Z"
    }
   },
   "id": "d204c4d648203b5",
   "execution_count": 77
  },
  {
   "cell_type": "code",
   "outputs": [
    {
     "data": {
      "text/plain": "             ds  sales_064_hat  sales_065_hat  sales_090_hat  sales_252_hat  \\\n1579 2015-05-27       0.792753       0.405831       0.000000      13.728467   \n1580 2015-05-28       0.011769       0.861334       0.490412      10.790953   \n1581 2015-05-29       0.420064       0.198740       9.665721      22.396927   \n1582 2015-05-30       0.593728       0.269908      34.075565      26.659003   \n1583 2015-05-31       0.409541       0.160460      15.357315      25.000704   \n...         ...            ...            ...            ...            ...   \n1664 2015-08-20       0.164126       0.264561       6.053163      22.811966   \n1665 2015-08-21       0.307114       0.332991      25.202078      26.221678   \n1666 2015-08-22       0.505709       0.420330      50.115201      30.124836   \n1667 2015-08-23       0.349344       0.325732      31.813063      28.102158   \n1668 2015-08-24       0.284386       0.331663      11.556729      23.001168   \n\n      sales_325_hat  sales_339_hat  sales_376_hat  sales_546_hat  \\\n1579       0.000000       2.636915       0.000000       2.286972   \n1580       0.000000       1.894652       1.859430       3.739914   \n1581       3.543892       2.677994       0.396197       3.237233   \n1582       4.842854       3.104649       0.936726       4.550171   \n1583       3.644369       4.391146       1.006591       5.594151   \n...             ...            ...            ...            ...   \n1664       4.169258       2.763605       0.367187       3.760431   \n1665       5.253863       2.765683       0.237649       3.734024   \n1666       6.547268       3.266823       0.739539       5.161190   \n1667       5.347082       4.641652       0.770778       6.354762   \n1668       4.393663       3.314861       0.562478       5.038711   \n\n      sales_547_hat  sales_555_hat  sales_584_hat  sales_586_hat  \\\n1579       0.000000      11.675324       2.030222      18.951079   \n1580       1.760230       9.995245       0.000000      13.569081   \n1581       7.781563      24.418188       0.760889      34.939727   \n1582       8.509553      30.850691       1.204295      42.548664   \n1583       8.880696      24.152127       0.659686      39.221923   \n...             ...            ...            ...            ...   \n1664       0.820487      20.735162       0.000000      34.278875   \n1665       2.896410      28.746781       0.617477      44.837584   \n1666       2.803146      35.224120       1.136186      52.536522   \n1667       2.461251      28.576173       0.679961      49.300252   \n1668       0.000000      21.177515       0.000000      35.259654   \n\n      sales_587_hat  sales_714_hat  sales_727_hat  \n1579      21.197434      18.004398       0.404720  \n1580      26.779681      20.223705       0.000000  \n1581      27.098882      31.969728       0.914537  \n1582      30.743906      36.902844       2.188404  \n1583      33.956595      31.013837       2.653906  \n...             ...            ...            ...  \n1664      28.215454      24.741691       3.755942  \n1665      31.187516      32.209336       4.546233  \n1666      34.469623      37.564291       5.733961  \n1667      37.275847      32.137181       6.089687  \n1668      30.246273      26.385133       4.367921  \n\n[90 rows x 16 columns]",
      "text/html": "<div>\n<style scoped>\n    .dataframe tbody tr th:only-of-type {\n        vertical-align: middle;\n    }\n\n    .dataframe tbody tr th {\n        vertical-align: top;\n    }\n\n    .dataframe thead th {\n        text-align: right;\n    }\n</style>\n<table border=\"1\" class=\"dataframe\">\n  <thead>\n    <tr style=\"text-align: right;\">\n      <th></th>\n      <th>ds</th>\n      <th>sales_064_hat</th>\n      <th>sales_065_hat</th>\n      <th>sales_090_hat</th>\n      <th>sales_252_hat</th>\n      <th>sales_325_hat</th>\n      <th>sales_339_hat</th>\n      <th>sales_376_hat</th>\n      <th>sales_546_hat</th>\n      <th>sales_547_hat</th>\n      <th>sales_555_hat</th>\n      <th>sales_584_hat</th>\n      <th>sales_586_hat</th>\n      <th>sales_587_hat</th>\n      <th>sales_714_hat</th>\n      <th>sales_727_hat</th>\n    </tr>\n  </thead>\n  <tbody>\n    <tr>\n      <th>1579</th>\n      <td>2015-05-27</td>\n      <td>0.792753</td>\n      <td>0.405831</td>\n      <td>0.000000</td>\n      <td>13.728467</td>\n      <td>0.000000</td>\n      <td>2.636915</td>\n      <td>0.000000</td>\n      <td>2.286972</td>\n      <td>0.000000</td>\n      <td>11.675324</td>\n      <td>2.030222</td>\n      <td>18.951079</td>\n      <td>21.197434</td>\n      <td>18.004398</td>\n      <td>0.404720</td>\n    </tr>\n    <tr>\n      <th>1580</th>\n      <td>2015-05-28</td>\n      <td>0.011769</td>\n      <td>0.861334</td>\n      <td>0.490412</td>\n      <td>10.790953</td>\n      <td>0.000000</td>\n      <td>1.894652</td>\n      <td>1.859430</td>\n      <td>3.739914</td>\n      <td>1.760230</td>\n      <td>9.995245</td>\n      <td>0.000000</td>\n      <td>13.569081</td>\n      <td>26.779681</td>\n      <td>20.223705</td>\n      <td>0.000000</td>\n    </tr>\n    <tr>\n      <th>1581</th>\n      <td>2015-05-29</td>\n      <td>0.420064</td>\n      <td>0.198740</td>\n      <td>9.665721</td>\n      <td>22.396927</td>\n      <td>3.543892</td>\n      <td>2.677994</td>\n      <td>0.396197</td>\n      <td>3.237233</td>\n      <td>7.781563</td>\n      <td>24.418188</td>\n      <td>0.760889</td>\n      <td>34.939727</td>\n      <td>27.098882</td>\n      <td>31.969728</td>\n      <td>0.914537</td>\n    </tr>\n    <tr>\n      <th>1582</th>\n      <td>2015-05-30</td>\n      <td>0.593728</td>\n      <td>0.269908</td>\n      <td>34.075565</td>\n      <td>26.659003</td>\n      <td>4.842854</td>\n      <td>3.104649</td>\n      <td>0.936726</td>\n      <td>4.550171</td>\n      <td>8.509553</td>\n      <td>30.850691</td>\n      <td>1.204295</td>\n      <td>42.548664</td>\n      <td>30.743906</td>\n      <td>36.902844</td>\n      <td>2.188404</td>\n    </tr>\n    <tr>\n      <th>1583</th>\n      <td>2015-05-31</td>\n      <td>0.409541</td>\n      <td>0.160460</td>\n      <td>15.357315</td>\n      <td>25.000704</td>\n      <td>3.644369</td>\n      <td>4.391146</td>\n      <td>1.006591</td>\n      <td>5.594151</td>\n      <td>8.880696</td>\n      <td>24.152127</td>\n      <td>0.659686</td>\n      <td>39.221923</td>\n      <td>33.956595</td>\n      <td>31.013837</td>\n      <td>2.653906</td>\n    </tr>\n    <tr>\n      <th>...</th>\n      <td>...</td>\n      <td>...</td>\n      <td>...</td>\n      <td>...</td>\n      <td>...</td>\n      <td>...</td>\n      <td>...</td>\n      <td>...</td>\n      <td>...</td>\n      <td>...</td>\n      <td>...</td>\n      <td>...</td>\n      <td>...</td>\n      <td>...</td>\n      <td>...</td>\n      <td>...</td>\n    </tr>\n    <tr>\n      <th>1664</th>\n      <td>2015-08-20</td>\n      <td>0.164126</td>\n      <td>0.264561</td>\n      <td>6.053163</td>\n      <td>22.811966</td>\n      <td>4.169258</td>\n      <td>2.763605</td>\n      <td>0.367187</td>\n      <td>3.760431</td>\n      <td>0.820487</td>\n      <td>20.735162</td>\n      <td>0.000000</td>\n      <td>34.278875</td>\n      <td>28.215454</td>\n      <td>24.741691</td>\n      <td>3.755942</td>\n    </tr>\n    <tr>\n      <th>1665</th>\n      <td>2015-08-21</td>\n      <td>0.307114</td>\n      <td>0.332991</td>\n      <td>25.202078</td>\n      <td>26.221678</td>\n      <td>5.253863</td>\n      <td>2.765683</td>\n      <td>0.237649</td>\n      <td>3.734024</td>\n      <td>2.896410</td>\n      <td>28.746781</td>\n      <td>0.617477</td>\n      <td>44.837584</td>\n      <td>31.187516</td>\n      <td>32.209336</td>\n      <td>4.546233</td>\n    </tr>\n    <tr>\n      <th>1666</th>\n      <td>2015-08-22</td>\n      <td>0.505709</td>\n      <td>0.420330</td>\n      <td>50.115201</td>\n      <td>30.124836</td>\n      <td>6.547268</td>\n      <td>3.266823</td>\n      <td>0.739539</td>\n      <td>5.161190</td>\n      <td>2.803146</td>\n      <td>35.224120</td>\n      <td>1.136186</td>\n      <td>52.536522</td>\n      <td>34.469623</td>\n      <td>37.564291</td>\n      <td>5.733961</td>\n    </tr>\n    <tr>\n      <th>1667</th>\n      <td>2015-08-23</td>\n      <td>0.349344</td>\n      <td>0.325732</td>\n      <td>31.813063</td>\n      <td>28.102158</td>\n      <td>5.347082</td>\n      <td>4.641652</td>\n      <td>0.770778</td>\n      <td>6.354762</td>\n      <td>2.461251</td>\n      <td>28.576173</td>\n      <td>0.679961</td>\n      <td>49.300252</td>\n      <td>37.275847</td>\n      <td>32.137181</td>\n      <td>6.089687</td>\n    </tr>\n    <tr>\n      <th>1668</th>\n      <td>2015-08-24</td>\n      <td>0.284386</td>\n      <td>0.331663</td>\n      <td>11.556729</td>\n      <td>23.001168</td>\n      <td>4.393663</td>\n      <td>3.314861</td>\n      <td>0.562478</td>\n      <td>5.038711</td>\n      <td>0.000000</td>\n      <td>21.177515</td>\n      <td>0.000000</td>\n      <td>35.259654</td>\n      <td>30.246273</td>\n      <td>26.385133</td>\n      <td>4.367921</td>\n    </tr>\n  </tbody>\n</table>\n<p>90 rows × 16 columns</p>\n</div>"
     },
     "execution_count": 78,
     "metadata": {},
     "output_type": "execute_result"
    }
   ],
   "source": [
    "model_2.predict_prophets(horizon = 90).iloc[-90:]"
   ],
   "metadata": {
    "collapsed": false,
    "ExecuteTime": {
     "end_time": "2024-06-08T04:07:29.799280Z",
     "start_time": "2024-06-08T04:07:26.197467Z"
    }
   },
   "id": "28d741ba38c04625",
   "execution_count": 78
  },
  {
   "cell_type": "code",
   "outputs": [],
   "source": [
    "tmp_train_sales = train_dict['sales'].reset_index()\n",
    "tmp_train_sales['ds'] = tmp_train_sales['date']\n",
    "tmp_train_sales.drop('date', axis = 1, inplace = True)"
   ],
   "metadata": {
    "collapsed": false,
    "ExecuteTime": {
     "end_time": "2024-06-08T04:18:45.839983Z",
     "start_time": "2024-06-08T04:18:45.758411Z"
    }
   },
   "id": "83313ce8d6a24934",
   "execution_count": 114
  },
  {
   "cell_type": "code",
   "outputs": [
    {
     "data": {
      "text/plain": "array([ 2.48119787,  1.89220959,  0.        , 14.68878095,  3.89596861,\n        2.70449362,  2.4614978 , 10.10804489,  2.68860027, 11.34111106,\n        2.4784788 ,  7.32295023, 27.23164546, 11.12430287,  0.        ])"
     },
     "execution_count": 136,
     "metadata": {},
     "output_type": "execute_result"
    }
   ],
   "source": [
    "((((tmp_train_sales[-7:].drop('ds', axis = 1).values - test_dict['sales'][:7].values) * test_dict['prices'][:7].values)**2).sum(axis = 0)/7)**0.5"
   ],
   "metadata": {
    "collapsed": false,
    "ExecuteTime": {
     "end_time": "2024-06-08T04:26:46.681589Z",
     "start_time": "2024-06-08T04:26:46.615966Z"
    }
   },
   "id": "a98a15f8bc2e5d5d",
   "execution_count": 136
  },
  {
   "cell_type": "code",
   "outputs": [
    {
     "data": {
      "text/plain": "array([  1.89504617,   3.65609628, 109.04823685,  21.1664968 ,\n         8.49938723,   3.72379735,   2.73858358,  20.07238169,\n         2.69344884,  12.18434405,   2.19848433,  22.45383531,\n        36.63355402,  18.04707696,  22.01328985])"
     },
     "execution_count": 138,
     "metadata": {},
     "output_type": "execute_result"
    }
   ],
   "source": [
    "((((tmp_train_sales[-30:].drop('ds', axis = 1).values - test_dict['sales'][:30].values) * test_dict['prices'][:30].values)**2).sum(axis = 0)/30)**0.5"
   ],
   "metadata": {
    "collapsed": false,
    "ExecuteTime": {
     "end_time": "2024-06-08T04:26:56.981976Z",
     "start_time": "2024-06-08T04:26:56.903211Z"
    }
   },
   "id": "cbfd2c5b9ffe03de",
   "execution_count": 138
  },
  {
   "cell_type": "code",
   "outputs": [
    {
     "data": {
      "text/plain": "array([ 2.79657568,  3.25303551, 64.49127817, 19.12822592,  9.01291512,\n        3.53169773,  3.29398374, 25.98224171,  3.24975213, 13.69197137,\n        2.3640831 , 21.93027496, 33.53863179, 23.67189445, 21.10460021])"
     },
     "execution_count": 139,
     "metadata": {},
     "output_type": "execute_result"
    }
   ],
   "source": [
    "((((tmp_train_sales[-90:].drop('ds', axis = 1).values - test_dict['sales'][:90].values) * test_dict['prices'][:90].values)**2).sum(axis = 0)/90)**0.5"
   ],
   "metadata": {
    "collapsed": false,
    "ExecuteTime": {
     "end_time": "2024-06-08T04:27:06.300812Z",
     "start_time": "2024-06-08T04:27:06.231887Z"
    }
   },
   "id": "e23fbcfa07227bfd",
   "execution_count": 139
  },
  {
   "cell_type": "markdown",
   "source": [
    "Мы побили (сезонный) нативный прогноз (не везде, на неделю вообще в щепки проиграли), можно открывать шампанское"
   ],
   "metadata": {
    "collapsed": false
   },
   "id": "76b39d26b685d9c1"
  },
  {
   "cell_type": "code",
   "outputs": [],
   "source": [],
   "metadata": {
    "collapsed": false
   },
   "id": "75e051aa3f4b5815"
  }
 ],
 "metadata": {
  "kernelspec": {
   "name": "venv",
   "language": "python",
   "display_name": "Python (myenv)"
  },
  "language_info": {
   "codemirror_mode": {
    "name": "ipython",
    "version": 2
   },
   "file_extension": ".py",
   "mimetype": "text/x-python",
   "name": "python",
   "nbconvert_exporter": "python",
   "pygments_lexer": "ipython2",
   "version": "2.7.6"
  }
 },
 "nbformat": 4,
 "nbformat_minor": 5
}
