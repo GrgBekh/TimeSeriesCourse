{
 "cells": [
  {
   "cell_type": "code",
   "execution_count": 1,
   "id": "initial_id",
   "metadata": {
    "collapsed": true,
    "ExecuteTime": {
     "end_time": "2024-06-08T04:55:03.934817Z",
     "start_time": "2024-06-08T04:55:01.616256Z"
    }
   },
   "outputs": [],
   "source": [
    "import pandas as pd\n",
    "import matplotlib.pyplot as plt\n",
    "import seaborn as sns\n",
    "import numpy as np\n",
    "import plotly.express as px\n",
    "from lightgbm import LGBMRegressor\n",
    "from sklearn.ensemble import RandomForestRegressor\n",
    "from sklearn.experimental import enable_iterative_imputer\n",
    "from sklearn.impute import IterativeImputer\n",
    "from sklearn.pipeline import Pipeline\n",
    "from prophet import Prophet\n",
    "%load_ext autoreload\n",
    "%autoreload 2"
   ]
  },
  {
   "cell_type": "code",
   "outputs": [],
   "source": [
    "from modules.DataPipeline import (MultiTableTransformer,\n",
    "                                            Joiner,\n",
    "                                            SelectiveImputer,\n",
    "                                            HolydayExtractor)\n",
    "from modules.ModelClass import ModelClass"
   ],
   "metadata": {
    "collapsed": false,
    "ExecuteTime": {
     "end_time": "2024-06-08T04:55:04.324500Z",
     "start_time": "2024-06-08T04:55:03.943145Z"
    }
   },
   "id": "b1bb3101d88492a8",
   "execution_count": 2
  },
  {
   "cell_type": "code",
   "outputs": [],
   "source": [
    "sales = pd.read_csv('../data/shop_sales.csv')\n",
    "prices = pd.read_csv('../data/shop_sales_prices.csv')\n",
    "calendar = pd.read_csv('../data/shop_sales_dates.csv', index_col='date')"
   ],
   "metadata": {
    "collapsed": false,
    "ExecuteTime": {
     "end_time": "2024-06-08T04:55:04.827557Z",
     "start_time": "2024-06-08T04:55:04.335394Z"
    }
   },
   "id": "67ac401bbc7590b",
   "execution_count": 3
  },
  {
   "cell_type": "code",
   "outputs": [],
   "source": [
    "sales_train, sales_test = sales.query('date_id < 1580'), sales.query('date_id >= 1580')\n",
    "calendar_train, calendar_test = calendar.query('date_id < 1580'), calendar.query('date_id >= 1580')"
   ],
   "metadata": {
    "collapsed": false,
    "ExecuteTime": {
     "end_time": "2024-06-08T04:55:05.168341Z",
     "start_time": "2024-06-08T04:55:04.838614Z"
    }
   },
   "id": "533b5081fdb43e43",
   "execution_count": 4
  },
  {
   "cell_type": "code",
   "outputs": [],
   "source": [],
   "metadata": {
    "collapsed": false,
    "ExecuteTime": {
     "end_time": "2024-06-08T04:55:05.198448Z",
     "start_time": "2024-06-08T04:55:05.183311Z"
    }
   },
   "id": "8cdcd81f8b456c84",
   "execution_count": 4
  },
  {
   "cell_type": "code",
   "outputs": [
    {
     "data": {
      "text/plain": "            wm_yr_wk    weekday  wday  month  year         event_name_1  \\\ndate                                                                      \n2011-01-29     11101   Saturday     1      1  2011                  NaN   \n2011-01-30     11101     Sunday     2      1  2011                  NaN   \n2011-01-31     11101     Monday     3      1  2011                  NaN   \n2011-02-01     11101    Tuesday     4      2  2011                  NaN   \n2011-02-02     11101  Wednesday     5      2  2011                  NaN   \n...              ...        ...   ...    ...   ...                  ...   \n2016-01-17     11551     Sunday     2      1  2016                  NaN   \n2016-01-18     11551     Monday     3      1  2016  MartinLutherKingDay   \n2016-01-19     11551    Tuesday     4      1  2016                  NaN   \n2016-01-20     11551  Wednesday     5      1  2016                  NaN   \n2016-01-21     11551   Thursday     6      1  2016                  NaN   \n\n           event_type_1 event_name_2 event_type_2  date_id  CASHBACK_STORE_1  \\\ndate                                                                           \n2011-01-29          NaN          NaN          NaN        1                 0   \n2011-01-30          NaN          NaN          NaN        2                 0   \n2011-01-31          NaN          NaN          NaN        3                 0   \n2011-02-01          NaN          NaN          NaN        4                 0   \n2011-02-02          NaN          NaN          NaN        5                 1   \n...                 ...          ...          ...      ...               ...   \n2016-01-17          NaN          NaN          NaN     1815                 0   \n2016-01-18     National          NaN          NaN     1816                 0   \n2016-01-19          NaN          NaN          NaN     1817                 0   \n2016-01-20          NaN          NaN          NaN     1818                 0   \n2016-01-21          NaN          NaN          NaN     1819                 0   \n\n            CASHBACK_STORE_2  CASHBACK_STORE_3  \ndate                                            \n2011-01-29                 0                 0  \n2011-01-30                 0                 0  \n2011-01-31                 0                 0  \n2011-02-01                 1                 1  \n2011-02-02                 1                 0  \n...                      ...               ...  \n2016-01-17                 0                 0  \n2016-01-18                 0                 0  \n2016-01-19                 0                 0  \n2016-01-20                 0                 0  \n2016-01-21                 0                 0  \n\n[1819 rows x 13 columns]",
      "text/html": "<div>\n<style scoped>\n    .dataframe tbody tr th:only-of-type {\n        vertical-align: middle;\n    }\n\n    .dataframe tbody tr th {\n        vertical-align: top;\n    }\n\n    .dataframe thead th {\n        text-align: right;\n    }\n</style>\n<table border=\"1\" class=\"dataframe\">\n  <thead>\n    <tr style=\"text-align: right;\">\n      <th></th>\n      <th>wm_yr_wk</th>\n      <th>weekday</th>\n      <th>wday</th>\n      <th>month</th>\n      <th>year</th>\n      <th>event_name_1</th>\n      <th>event_type_1</th>\n      <th>event_name_2</th>\n      <th>event_type_2</th>\n      <th>date_id</th>\n      <th>CASHBACK_STORE_1</th>\n      <th>CASHBACK_STORE_2</th>\n      <th>CASHBACK_STORE_3</th>\n    </tr>\n    <tr>\n      <th>date</th>\n      <th></th>\n      <th></th>\n      <th></th>\n      <th></th>\n      <th></th>\n      <th></th>\n      <th></th>\n      <th></th>\n      <th></th>\n      <th></th>\n      <th></th>\n      <th></th>\n      <th></th>\n    </tr>\n  </thead>\n  <tbody>\n    <tr>\n      <th>2011-01-29</th>\n      <td>11101</td>\n      <td>Saturday</td>\n      <td>1</td>\n      <td>1</td>\n      <td>2011</td>\n      <td>NaN</td>\n      <td>NaN</td>\n      <td>NaN</td>\n      <td>NaN</td>\n      <td>1</td>\n      <td>0</td>\n      <td>0</td>\n      <td>0</td>\n    </tr>\n    <tr>\n      <th>2011-01-30</th>\n      <td>11101</td>\n      <td>Sunday</td>\n      <td>2</td>\n      <td>1</td>\n      <td>2011</td>\n      <td>NaN</td>\n      <td>NaN</td>\n      <td>NaN</td>\n      <td>NaN</td>\n      <td>2</td>\n      <td>0</td>\n      <td>0</td>\n      <td>0</td>\n    </tr>\n    <tr>\n      <th>2011-01-31</th>\n      <td>11101</td>\n      <td>Monday</td>\n      <td>3</td>\n      <td>1</td>\n      <td>2011</td>\n      <td>NaN</td>\n      <td>NaN</td>\n      <td>NaN</td>\n      <td>NaN</td>\n      <td>3</td>\n      <td>0</td>\n      <td>0</td>\n      <td>0</td>\n    </tr>\n    <tr>\n      <th>2011-02-01</th>\n      <td>11101</td>\n      <td>Tuesday</td>\n      <td>4</td>\n      <td>2</td>\n      <td>2011</td>\n      <td>NaN</td>\n      <td>NaN</td>\n      <td>NaN</td>\n      <td>NaN</td>\n      <td>4</td>\n      <td>0</td>\n      <td>1</td>\n      <td>1</td>\n    </tr>\n    <tr>\n      <th>2011-02-02</th>\n      <td>11101</td>\n      <td>Wednesday</td>\n      <td>5</td>\n      <td>2</td>\n      <td>2011</td>\n      <td>NaN</td>\n      <td>NaN</td>\n      <td>NaN</td>\n      <td>NaN</td>\n      <td>5</td>\n      <td>1</td>\n      <td>1</td>\n      <td>0</td>\n    </tr>\n    <tr>\n      <th>...</th>\n      <td>...</td>\n      <td>...</td>\n      <td>...</td>\n      <td>...</td>\n      <td>...</td>\n      <td>...</td>\n      <td>...</td>\n      <td>...</td>\n      <td>...</td>\n      <td>...</td>\n      <td>...</td>\n      <td>...</td>\n      <td>...</td>\n    </tr>\n    <tr>\n      <th>2016-01-17</th>\n      <td>11551</td>\n      <td>Sunday</td>\n      <td>2</td>\n      <td>1</td>\n      <td>2016</td>\n      <td>NaN</td>\n      <td>NaN</td>\n      <td>NaN</td>\n      <td>NaN</td>\n      <td>1815</td>\n      <td>0</td>\n      <td>0</td>\n      <td>0</td>\n    </tr>\n    <tr>\n      <th>2016-01-18</th>\n      <td>11551</td>\n      <td>Monday</td>\n      <td>3</td>\n      <td>1</td>\n      <td>2016</td>\n      <td>MartinLutherKingDay</td>\n      <td>National</td>\n      <td>NaN</td>\n      <td>NaN</td>\n      <td>1816</td>\n      <td>0</td>\n      <td>0</td>\n      <td>0</td>\n    </tr>\n    <tr>\n      <th>2016-01-19</th>\n      <td>11551</td>\n      <td>Tuesday</td>\n      <td>4</td>\n      <td>1</td>\n      <td>2016</td>\n      <td>NaN</td>\n      <td>NaN</td>\n      <td>NaN</td>\n      <td>NaN</td>\n      <td>1817</td>\n      <td>0</td>\n      <td>0</td>\n      <td>0</td>\n    </tr>\n    <tr>\n      <th>2016-01-20</th>\n      <td>11551</td>\n      <td>Wednesday</td>\n      <td>5</td>\n      <td>1</td>\n      <td>2016</td>\n      <td>NaN</td>\n      <td>NaN</td>\n      <td>NaN</td>\n      <td>NaN</td>\n      <td>1818</td>\n      <td>0</td>\n      <td>0</td>\n      <td>0</td>\n    </tr>\n    <tr>\n      <th>2016-01-21</th>\n      <td>11551</td>\n      <td>Thursday</td>\n      <td>6</td>\n      <td>1</td>\n      <td>2016</td>\n      <td>NaN</td>\n      <td>NaN</td>\n      <td>NaN</td>\n      <td>NaN</td>\n      <td>1819</td>\n      <td>0</td>\n      <td>0</td>\n      <td>0</td>\n    </tr>\n  </tbody>\n</table>\n<p>1819 rows × 13 columns</p>\n</div>"
     },
     "execution_count": 5,
     "metadata": {},
     "output_type": "execute_result"
    }
   ],
   "source": [
    "calendar"
   ],
   "metadata": {
    "collapsed": false,
    "ExecuteTime": {
     "end_time": "2024-06-08T04:55:05.430512Z",
     "start_time": "2024-06-08T04:55:05.209045Z"
    }
   },
   "id": "b28a76452fe43a7b",
   "execution_count": 5
  },
  {
   "cell_type": "code",
   "outputs": [],
   "source": [
    "selected_store = 'STORE_1'\n",
    "mttf = MultiTableTransformer(store_name=selected_store)\n",
    "imputer_wrapped = SelectiveImputer(imputer = IterativeImputer())\n",
    "joiner = Joiner()\n",
    "pipeline = Pipeline([\n",
    "    ('multi_table_transformer', mttf),\n",
    "    ('selective_imputer', imputer_wrapped),\n",
    "    ('joiner', joiner),\n",
    "    ('holiday_extractor', HolydayExtractor())\n",
    "])\n",
    "\n",
    "train_dict = {'sales': sales_train, 'prices': prices, 'calendar': calendar_train}\n",
    "train_dict = pipeline.fit_transform(train_dict)"
   ],
   "metadata": {
    "collapsed": false,
    "ExecuteTime": {
     "end_time": "2024-06-08T04:55:05.770994Z",
     "start_time": "2024-06-08T04:55:05.433735Z"
    }
   },
   "id": "149d04916f76dd0e",
   "execution_count": 6
  },
  {
   "cell_type": "code",
   "outputs": [
    {
     "data": {
      "text/plain": "            wm_yr_wk event_name_1 event_type_1 event_name_2 event_type_2  \\\ndate                                                                       \n2011-01-29     11101      noevent       notype      noevent       notype   \n2011-01-30     11101      noevent       notype      noevent       notype   \n2011-01-31     11101      noevent       notype      noevent       notype   \n2011-02-01     11101      noevent       notype      noevent       notype   \n2011-02-02     11101      noevent       notype      noevent       notype   \n...              ...          ...          ...          ...          ...   \n2015-05-22     11516      noevent       notype      noevent       notype   \n2015-05-23     11517      noevent       notype      noevent       notype   \n2015-05-24     11517      noevent       notype      noevent       notype   \n2015-05-25     11517  MemorialDay     National      noevent       notype   \n2015-05-26     11517      noevent       notype      noevent       notype   \n\n            date_id  CASHBACK_STORE_1  \ndate                                   \n2011-01-29        1                 0  \n2011-01-30        2                 0  \n2011-01-31        3                 0  \n2011-02-01        4                 0  \n2011-02-02        5                 1  \n...             ...               ...  \n2015-05-22     1575                 0  \n2015-05-23     1576                 0  \n2015-05-24     1577                 0  \n2015-05-25     1578                 0  \n2015-05-26     1579                 0  \n\n[1579 rows x 7 columns]",
      "text/html": "<div>\n<style scoped>\n    .dataframe tbody tr th:only-of-type {\n        vertical-align: middle;\n    }\n\n    .dataframe tbody tr th {\n        vertical-align: top;\n    }\n\n    .dataframe thead th {\n        text-align: right;\n    }\n</style>\n<table border=\"1\" class=\"dataframe\">\n  <thead>\n    <tr style=\"text-align: right;\">\n      <th></th>\n      <th>wm_yr_wk</th>\n      <th>event_name_1</th>\n      <th>event_type_1</th>\n      <th>event_name_2</th>\n      <th>event_type_2</th>\n      <th>date_id</th>\n      <th>CASHBACK_STORE_1</th>\n    </tr>\n    <tr>\n      <th>date</th>\n      <th></th>\n      <th></th>\n      <th></th>\n      <th></th>\n      <th></th>\n      <th></th>\n      <th></th>\n    </tr>\n  </thead>\n  <tbody>\n    <tr>\n      <th>2011-01-29</th>\n      <td>11101</td>\n      <td>noevent</td>\n      <td>notype</td>\n      <td>noevent</td>\n      <td>notype</td>\n      <td>1</td>\n      <td>0</td>\n    </tr>\n    <tr>\n      <th>2011-01-30</th>\n      <td>11101</td>\n      <td>noevent</td>\n      <td>notype</td>\n      <td>noevent</td>\n      <td>notype</td>\n      <td>2</td>\n      <td>0</td>\n    </tr>\n    <tr>\n      <th>2011-01-31</th>\n      <td>11101</td>\n      <td>noevent</td>\n      <td>notype</td>\n      <td>noevent</td>\n      <td>notype</td>\n      <td>3</td>\n      <td>0</td>\n    </tr>\n    <tr>\n      <th>2011-02-01</th>\n      <td>11101</td>\n      <td>noevent</td>\n      <td>notype</td>\n      <td>noevent</td>\n      <td>notype</td>\n      <td>4</td>\n      <td>0</td>\n    </tr>\n    <tr>\n      <th>2011-02-02</th>\n      <td>11101</td>\n      <td>noevent</td>\n      <td>notype</td>\n      <td>noevent</td>\n      <td>notype</td>\n      <td>5</td>\n      <td>1</td>\n    </tr>\n    <tr>\n      <th>...</th>\n      <td>...</td>\n      <td>...</td>\n      <td>...</td>\n      <td>...</td>\n      <td>...</td>\n      <td>...</td>\n      <td>...</td>\n    </tr>\n    <tr>\n      <th>2015-05-22</th>\n      <td>11516</td>\n      <td>noevent</td>\n      <td>notype</td>\n      <td>noevent</td>\n      <td>notype</td>\n      <td>1575</td>\n      <td>0</td>\n    </tr>\n    <tr>\n      <th>2015-05-23</th>\n      <td>11517</td>\n      <td>noevent</td>\n      <td>notype</td>\n      <td>noevent</td>\n      <td>notype</td>\n      <td>1576</td>\n      <td>0</td>\n    </tr>\n    <tr>\n      <th>2015-05-24</th>\n      <td>11517</td>\n      <td>noevent</td>\n      <td>notype</td>\n      <td>noevent</td>\n      <td>notype</td>\n      <td>1577</td>\n      <td>0</td>\n    </tr>\n    <tr>\n      <th>2015-05-25</th>\n      <td>11517</td>\n      <td>MemorialDay</td>\n      <td>National</td>\n      <td>noevent</td>\n      <td>notype</td>\n      <td>1578</td>\n      <td>0</td>\n    </tr>\n    <tr>\n      <th>2015-05-26</th>\n      <td>11517</td>\n      <td>noevent</td>\n      <td>notype</td>\n      <td>noevent</td>\n      <td>notype</td>\n      <td>1579</td>\n      <td>0</td>\n    </tr>\n  </tbody>\n</table>\n<p>1579 rows × 7 columns</p>\n</div>"
     },
     "execution_count": 7,
     "metadata": {},
     "output_type": "execute_result"
    }
   ],
   "source": [
    "train_dict['calendar']"
   ],
   "metadata": {
    "collapsed": false,
    "ExecuteTime": {
     "end_time": "2024-06-08T04:55:05.913278Z",
     "start_time": "2024-06-08T04:55:05.772042Z"
    }
   },
   "id": "7c3dcab443ba5e59",
   "execution_count": 7
  },
  {
   "cell_type": "code",
   "outputs": [],
   "source": [
    "model = ModelClass(ndim=15, data_pipline=pipeline)"
   ],
   "metadata": {
    "collapsed": false,
    "ExecuteTime": {
     "end_time": "2024-06-08T04:55:06.115660Z",
     "start_time": "2024-06-08T04:55:05.915429Z"
    }
   },
   "id": "7cc20877f46eb9af",
   "execution_count": 8
  },
  {
   "cell_type": "code",
   "outputs": [],
   "source": [
    "test_dict = {'sales': sales_test, 'prices': prices, 'calendar': calendar_test}\n",
    "test_dict = model.data_pipeline.transform(test_dict)"
   ],
   "metadata": {
    "collapsed": false,
    "ExecuteTime": {
     "end_time": "2024-06-08T04:55:06.363346Z",
     "start_time": "2024-06-08T04:55:06.121144Z"
    }
   },
   "id": "d899b6fdc9a6aca3",
   "execution_count": 9
  },
  {
   "cell_type": "code",
   "outputs": [
    {
     "data": {
      "text/plain": "                holiday         ds  lower_window  upper_window\n0        NBAFinalsStart 2015-06-04            -3             3\n1          NBAFinalsEnd 2015-06-16            -3             3\n2        Ramadan starts 2015-06-18            -3             3\n3          Father's day 2015-06-21            -3             3\n4       IndependenceDay 2015-07-04            -3             3\n5           Eid al-Fitr 2015-07-18            -3             3\n6              LaborDay 2015-09-07            -3             3\n7             EidAlAdha 2015-09-24            -3             3\n8           ColumbusDay 2015-10-12            -3             3\n9             Halloween 2015-10-31            -3             3\n10          VeteransDay 2015-11-11            -3             3\n11         Thanksgiving 2015-11-26            -3             3\n12         Chanukah End 2015-12-14            -3             3\n13            Christmas 2015-12-25            -3             3\n14              NewYear 2016-01-01            -3             3\n15    OrthodoxChristmas 2016-01-07            -3             3\n16  MartinLutherKingDay 2016-01-18            -3             3",
      "text/html": "<div>\n<style scoped>\n    .dataframe tbody tr th:only-of-type {\n        vertical-align: middle;\n    }\n\n    .dataframe tbody tr th {\n        vertical-align: top;\n    }\n\n    .dataframe thead th {\n        text-align: right;\n    }\n</style>\n<table border=\"1\" class=\"dataframe\">\n  <thead>\n    <tr style=\"text-align: right;\">\n      <th></th>\n      <th>holiday</th>\n      <th>ds</th>\n      <th>lower_window</th>\n      <th>upper_window</th>\n    </tr>\n  </thead>\n  <tbody>\n    <tr>\n      <th>0</th>\n      <td>NBAFinalsStart</td>\n      <td>2015-06-04</td>\n      <td>-3</td>\n      <td>3</td>\n    </tr>\n    <tr>\n      <th>1</th>\n      <td>NBAFinalsEnd</td>\n      <td>2015-06-16</td>\n      <td>-3</td>\n      <td>3</td>\n    </tr>\n    <tr>\n      <th>2</th>\n      <td>Ramadan starts</td>\n      <td>2015-06-18</td>\n      <td>-3</td>\n      <td>3</td>\n    </tr>\n    <tr>\n      <th>3</th>\n      <td>Father's day</td>\n      <td>2015-06-21</td>\n      <td>-3</td>\n      <td>3</td>\n    </tr>\n    <tr>\n      <th>4</th>\n      <td>IndependenceDay</td>\n      <td>2015-07-04</td>\n      <td>-3</td>\n      <td>3</td>\n    </tr>\n    <tr>\n      <th>5</th>\n      <td>Eid al-Fitr</td>\n      <td>2015-07-18</td>\n      <td>-3</td>\n      <td>3</td>\n    </tr>\n    <tr>\n      <th>6</th>\n      <td>LaborDay</td>\n      <td>2015-09-07</td>\n      <td>-3</td>\n      <td>3</td>\n    </tr>\n    <tr>\n      <th>7</th>\n      <td>EidAlAdha</td>\n      <td>2015-09-24</td>\n      <td>-3</td>\n      <td>3</td>\n    </tr>\n    <tr>\n      <th>8</th>\n      <td>ColumbusDay</td>\n      <td>2015-10-12</td>\n      <td>-3</td>\n      <td>3</td>\n    </tr>\n    <tr>\n      <th>9</th>\n      <td>Halloween</td>\n      <td>2015-10-31</td>\n      <td>-3</td>\n      <td>3</td>\n    </tr>\n    <tr>\n      <th>10</th>\n      <td>VeteransDay</td>\n      <td>2015-11-11</td>\n      <td>-3</td>\n      <td>3</td>\n    </tr>\n    <tr>\n      <th>11</th>\n      <td>Thanksgiving</td>\n      <td>2015-11-26</td>\n      <td>-3</td>\n      <td>3</td>\n    </tr>\n    <tr>\n      <th>12</th>\n      <td>Chanukah End</td>\n      <td>2015-12-14</td>\n      <td>-3</td>\n      <td>3</td>\n    </tr>\n    <tr>\n      <th>13</th>\n      <td>Christmas</td>\n      <td>2015-12-25</td>\n      <td>-3</td>\n      <td>3</td>\n    </tr>\n    <tr>\n      <th>14</th>\n      <td>NewYear</td>\n      <td>2016-01-01</td>\n      <td>-3</td>\n      <td>3</td>\n    </tr>\n    <tr>\n      <th>15</th>\n      <td>OrthodoxChristmas</td>\n      <td>2016-01-07</td>\n      <td>-3</td>\n      <td>3</td>\n    </tr>\n    <tr>\n      <th>16</th>\n      <td>MartinLutherKingDay</td>\n      <td>2016-01-18</td>\n      <td>-3</td>\n      <td>3</td>\n    </tr>\n  </tbody>\n</table>\n</div>"
     },
     "execution_count": 10,
     "metadata": {},
     "output_type": "execute_result"
    }
   ],
   "source": [
    "test_dict['holidays']"
   ],
   "metadata": {
    "collapsed": false,
    "ExecuteTime": {
     "end_time": "2024-06-08T04:55:06.559780Z",
     "start_time": "2024-06-08T04:55:06.366536Z"
    }
   },
   "id": "1cb19cc4b40d79b9",
   "execution_count": 10
  },
  {
   "cell_type": "code",
   "outputs": [],
   "source": [],
   "metadata": {
    "collapsed": false,
    "ExecuteTime": {
     "end_time": "2024-06-08T04:55:06.583863Z",
     "start_time": "2024-06-08T04:55:06.567233Z"
    }
   },
   "id": "f774c19573c12f25",
   "execution_count": 10
  },
  {
   "cell_type": "code",
   "outputs": [
    {
     "name": "stderr",
     "output_type": "stream",
     "text": [
      "07:55:14 - cmdstanpy - INFO - Chain [1] start processing\n",
      "07:55:15 - cmdstanpy - INFO - Chain [1] done processing\n",
      "07:55:16 - cmdstanpy - INFO - Chain [1] start processing\n",
      "07:55:18 - cmdstanpy - INFO - Chain [1] done processing\n",
      "07:55:19 - cmdstanpy - INFO - Chain [1] start processing\n",
      "07:55:20 - cmdstanpy - INFO - Chain [1] done processing\n",
      "07:55:21 - cmdstanpy - INFO - Chain [1] start processing\n",
      "07:55:21 - cmdstanpy - INFO - Chain [1] done processing\n",
      "07:55:22 - cmdstanpy - INFO - Chain [1] start processing\n",
      "07:55:23 - cmdstanpy - INFO - Chain [1] done processing\n",
      "07:55:24 - cmdstanpy - INFO - Chain [1] start processing\n",
      "07:55:26 - cmdstanpy - INFO - Chain [1] done processing\n",
      "07:55:27 - cmdstanpy - INFO - Chain [1] start processing\n",
      "07:55:28 - cmdstanpy - INFO - Chain [1] done processing\n",
      "07:55:28 - cmdstanpy - INFO - Chain [1] start processing\n",
      "07:55:30 - cmdstanpy - INFO - Chain [1] done processing\n",
      "07:55:30 - cmdstanpy - INFO - Chain [1] start processing\n",
      "07:55:31 - cmdstanpy - INFO - Chain [1] done processing\n",
      "07:55:32 - cmdstanpy - INFO - Chain [1] start processing\n",
      "07:55:32 - cmdstanpy - INFO - Chain [1] done processing\n",
      "07:55:33 - cmdstanpy - INFO - Chain [1] start processing\n",
      "07:55:33 - cmdstanpy - INFO - Chain [1] done processing\n",
      "07:55:34 - cmdstanpy - INFO - Chain [1] start processing\n",
      "07:55:35 - cmdstanpy - INFO - Chain [1] done processing\n",
      "07:55:37 - cmdstanpy - INFO - Chain [1] start processing\n",
      "07:55:37 - cmdstanpy - INFO - Chain [1] done processing\n",
      "07:55:38 - cmdstanpy - INFO - Chain [1] start processing\n",
      "07:55:38 - cmdstanpy - INFO - Chain [1] done processing\n",
      "07:55:39 - cmdstanpy - INFO - Chain [1] start processing\n",
      "07:55:40 - cmdstanpy - INFO - Chain [1] done processing\n"
     ]
    }
   ],
   "source": [
    "# Не знаю стоило ли делать отдельные методы predict_Q predict_W и predict_M для квартала недели и месяца соответсвенно, просто указываем горизонт и усе\n",
    "model.fit_prophets(train_dict)\n",
    "model.fit_catboost(train_dict)\n",
    "model_preds_prophet = model.predict_prophets(horizon = 90)\n",
    "model_preds_boost = model.predict_catboost(future_df = test_dict,horizon = 90)"
   ],
   "metadata": {
    "collapsed": false,
    "ExecuteTime": {
     "end_time": "2024-06-08T04:56:00.957606Z",
     "start_time": "2024-06-08T04:55:06.588327Z"
    }
   },
   "id": "f746d561123d21d2",
   "execution_count": 11
  },
  {
   "cell_type": "code",
   "outputs": [
    {
     "data": {
      "text/plain": "sales_064_hat     1.505016\nsales_065_hat     1.386647\nsales_090_hat    68.199803\nsales_252_hat    11.402210\nsales_325_hat     5.825942\nsales_339_hat     3.131902\nsales_376_hat     1.648613\nsales_546_hat    10.073199\nsales_547_hat     6.454265\nsales_555_hat    10.594483\nsales_584_hat     2.271421\nsales_586_hat    12.258558\nsales_587_hat    12.873556\nsales_714_hat    13.017843\nsales_727_hat     9.470507\ndtype: float64"
     },
     "execution_count": 12,
     "metadata": {},
     "output_type": "execute_result"
    }
   ],
   "source": [
    "model.eval_preds(model_preds_prophet[-90:], test_dict['sales'].iloc[:90, :].values, test_dict['prices'].iloc[:90, :].values)"
   ],
   "metadata": {
    "collapsed": false,
    "ExecuteTime": {
     "end_time": "2024-06-08T04:56:01.034979Z",
     "start_time": "2024-06-08T04:56:00.958608Z"
    }
   },
   "id": "bb765beb37ba0334",
   "execution_count": 12
  },
  {
   "cell_type": "code",
   "outputs": [
    {
     "data": {
      "text/plain": "sales_064_hat     1.509591\nsales_065_hat     1.396601\nsales_090_hat    50.793468\nsales_252_hat    12.359090\nsales_325_hat     5.532426\nsales_339_hat     3.048163\nsales_376_hat     1.599188\nsales_546_hat     9.089356\nsales_547_hat     5.682445\nsales_555_hat     9.866547\nsales_584_hat     1.905567\nsales_586_hat    12.510066\nsales_587_hat    11.817240\nsales_714_hat    12.310548\nsales_727_hat     8.407187\ndtype: float64"
     },
     "execution_count": 13,
     "metadata": {},
     "output_type": "execute_result"
    }
   ],
   "source": [
    "model.eval_preds(model_preds_boost.iloc[:90, :], test_dict['sales'].iloc[:90, :].values, test_dict['prices'].iloc[:90, :].values)"
   ],
   "metadata": {
    "collapsed": false,
    "ExecuteTime": {
     "end_time": "2024-06-08T04:56:01.145823Z",
     "start_time": "2024-06-08T04:56:01.036019Z"
    }
   },
   "id": "fc371d854c7f459c",
   "execution_count": 13
  },
  {
   "cell_type": "code",
   "outputs": [
    {
     "data": {
      "text/plain": "sales_064_hat     0.741918\nsales_065_hat     1.270535\nsales_090_hat    49.882574\nsales_252_hat    10.922363\nsales_325_hat     6.794398\nsales_339_hat     3.296223\nsales_376_hat     1.358909\nsales_546_hat     6.907932\nsales_547_hat     5.795773\nsales_555_hat     9.488720\nsales_584_hat     2.464225\nsales_586_hat    11.140522\nsales_587_hat    11.367325\nsales_714_hat    12.937261\nsales_727_hat     7.093041\ndtype: float64"
     },
     "execution_count": 14,
     "metadata": {},
     "output_type": "execute_result"
    }
   ],
   "source": [
    "model.eval_preds(model_preds_prophet[-90:-60], test_dict['sales'].iloc[:30, :].values, test_dict['prices'].iloc[:30, :].values)"
   ],
   "metadata": {
    "collapsed": false,
    "ExecuteTime": {
     "end_time": "2024-06-08T04:56:01.257207Z",
     "start_time": "2024-06-08T04:56:01.146916Z"
    }
   },
   "id": "1c56f5ad47d76389",
   "execution_count": 14
  },
  {
   "cell_type": "code",
   "outputs": [
    {
     "data": {
      "text/plain": "sales_064_hat     0.737300\nsales_065_hat     1.253566\nsales_090_hat    50.688870\nsales_252_hat    12.261156\nsales_325_hat     4.773297\nsales_339_hat     3.183334\nsales_376_hat     1.349808\nsales_546_hat     6.769776\nsales_547_hat     4.858567\nsales_555_hat     8.962903\nsales_584_hat     1.592463\nsales_586_hat    10.578505\nsales_587_hat    10.433305\nsales_714_hat    11.739934\nsales_727_hat     5.774290\ndtype: float64"
     },
     "execution_count": 15,
     "metadata": {},
     "output_type": "execute_result"
    }
   ],
   "source": [
    "model.eval_preds(model_preds_boost.iloc[:30, :], test_dict['sales'].iloc[:30, :].values, test_dict['prices'].iloc[:30, :].values)"
   ],
   "metadata": {
    "collapsed": false,
    "ExecuteTime": {
     "end_time": "2024-06-08T04:56:01.349940Z",
     "start_time": "2024-06-08T04:56:01.258258Z"
    }
   },
   "id": "f0f1e9ac3248a835",
   "execution_count": 15
  },
  {
   "cell_type": "code",
   "outputs": [
    {
     "data": {
      "text/plain": "sales_064_hat     0.801000\nsales_065_hat     0.743477\nsales_090_hat    17.142712\nsales_252_hat     9.641696\nsales_325_hat     5.862378\nsales_339_hat     2.043686\nsales_376_hat     1.771925\nsales_546_hat     4.678164\nsales_547_hat     6.239948\nsales_555_hat    11.199207\nsales_584_hat     2.437726\nsales_586_hat    15.063999\nsales_587_hat     7.621767\nsales_714_hat    12.793897\nsales_727_hat     2.615928\ndtype: float64"
     },
     "execution_count": 16,
     "metadata": {},
     "output_type": "execute_result"
    }
   ],
   "source": [
    "model.eval_preds(model_preds_prophet[-90:-83], test_dict['sales'].iloc[:7, :].values, test_dict['prices'].iloc[:7, :].values)"
   ],
   "metadata": {
    "collapsed": false,
    "ExecuteTime": {
     "end_time": "2024-06-08T04:56:01.445264Z",
     "start_time": "2024-06-08T04:56:01.351023Z"
    }
   },
   "id": "9bc045cabc691271",
   "execution_count": 16
  },
  {
   "cell_type": "code",
   "outputs": [
    {
     "data": {
      "text/plain": "sales_064_hat     0.747850\nsales_065_hat     0.500444\nsales_090_hat    50.569498\nsales_252_hat     4.942316\nsales_325_hat     3.835783\nsales_339_hat     2.438702\nsales_376_hat     1.721182\nsales_546_hat     3.726736\nsales_547_hat     5.319601\nsales_555_hat    10.304873\nsales_584_hat     1.676424\nsales_586_hat    11.901888\nsales_587_hat     8.527787\nsales_714_hat    10.172890\nsales_727_hat     4.194489\ndtype: float64"
     },
     "execution_count": 17,
     "metadata": {},
     "output_type": "execute_result"
    }
   ],
   "source": [
    "model.eval_preds(model_preds_boost.iloc[:7, :], test_dict['sales'].iloc[:7, :].values, test_dict['prices'].iloc[:7, :].values)"
   ],
   "metadata": {
    "collapsed": false,
    "ExecuteTime": {
     "end_time": "2024-06-08T04:56:01.540097Z",
     "start_time": "2024-06-08T04:56:01.446415Z"
    }
   },
   "id": "4852ca23b671ba3d",
   "execution_count": 17
  },
  {
   "cell_type": "markdown",
   "source": [
    "Бустинг ощутимо хуже в краткосрок, плохо, но если надо на квартал прям то лучше с ним.\n",
    "Реализованный класс позволит refit-ить prophet-ы не трогая градиентные бустинги (например раз в 1 неделю)\n",
    "А бустинги можно например раз в квартал, таким образом решим пробелему обучения в онлайне.\n",
    "\n",
    "В качестве единой метрики могу предложить сумму предиктов (они взвешаны по цене, получается средняя разница в доходе и предсказаниях.\n",
    " "
   ],
   "metadata": {
    "collapsed": false
   },
   "id": "519aeaff994a0889"
  },
  {
   "cell_type": "code",
   "outputs": [
    {
     "data": {
      "text/plain": "      prophet    stacking\nQ  170.113964  147.827482\nM  141.461718  148.241865\nW  100.657509  142.897399",
      "text/html": "<div>\n<style scoped>\n    .dataframe tbody tr th:only-of-type {\n        vertical-align: middle;\n    }\n\n    .dataframe tbody tr th {\n        vertical-align: top;\n    }\n\n    .dataframe thead th {\n        text-align: right;\n    }\n</style>\n<table border=\"1\" class=\"dataframe\">\n  <thead>\n    <tr style=\"text-align: right;\">\n      <th></th>\n      <th>prophet</th>\n      <th>stacking</th>\n    </tr>\n  </thead>\n  <tbody>\n    <tr>\n      <th>Q</th>\n      <td>170.113964</td>\n      <td>147.827482</td>\n    </tr>\n    <tr>\n      <th>M</th>\n      <td>141.461718</td>\n      <td>148.241865</td>\n    </tr>\n    <tr>\n      <th>W</th>\n      <td>100.657509</td>\n      <td>142.897399</td>\n    </tr>\n  </tbody>\n</table>\n</div>"
     },
     "execution_count": 18,
     "metadata": {},
     "output_type": "execute_result"
    }
   ],
   "source": [
    "prophet_Q = model.eval_preds(model_preds_prophet[-90:], test_dict['sales'].iloc[:90, :].values, test_dict['prices'].iloc[:90, :].values).values.sum()\n",
    "prophet_M = model.eval_preds(model_preds_prophet[-90:-60], test_dict['sales'].iloc[:30, :].values, test_dict['prices'].iloc[:30, :].values).values.sum()\n",
    "prophet_W = model.eval_preds(model_preds_prophet[-90:-83], test_dict['sales'].iloc[:7, :].values, test_dict['prices'].iloc[:7, :].values).values.sum()\n",
    "\n",
    "stack_Q = model.eval_preds(model_preds_boost[-90:], test_dict['sales'].iloc[:90, :].values, test_dict['prices'].iloc[:90, :].values).values.sum()\n",
    "stack_M = model.eval_preds(model_preds_boost[-30:], test_dict['sales'].iloc[:30, :].values, test_dict['prices'].iloc[:30, :].values).values.sum()\n",
    "stack_W = model.eval_preds(model_preds_boost[-7:], test_dict['sales'].iloc[:7, :].values, test_dict['prices'].iloc[:7, :].values).values.sum()\n",
    "\n",
    "pd.DataFrame([[prophet_Q, prophet_M, prophet_W], [stack_Q, stack_M, stack_W]], columns=['Q', 'M', 'W'], index = ['prophet', 'stacking']).T"
   ],
   "metadata": {
    "collapsed": false,
    "ExecuteTime": {
     "end_time": "2024-06-08T04:56:01.651123Z",
     "start_time": "2024-06-08T04:56:01.541140Z"
    }
   },
   "id": "31189e09b6a6b83d",
   "execution_count": 18
  },
  {
   "cell_type": "markdown",
   "source": [
    "Бустинг ощутимо хуже в краткосрок, плохо, но если надо на квартал прям то лучше с ним"
   ],
   "metadata": {
    "collapsed": false
   },
   "id": "b2df4489820f371c"
  },
  {
   "cell_type": "code",
   "outputs": [
    {
     "data": {
      "text/plain": "[<matplotlib.lines.Line2D at 0x1b2b74f2e00>]"
     },
     "execution_count": 19,
     "metadata": {},
     "output_type": "execute_result"
    },
    {
     "data": {
      "text/plain": "<Figure size 640x480 with 1 Axes>",
      "image/png": "[encoded data removed]"
     },
     "metadata": {},
     "output_type": "display_data"
    }
   ],
   "source": [
    "plt.plot(model_preds_prophet['sales_555_hat'][-90:].values[:90], color = 'red')\n",
    "plt.plot(model_preds_boost['sales_555_hat'].values[:90], color = 'blue')\n",
    "plt.plot(test_dict['sales']['sales_555'].values[:90], color = 'green')"
   ],
   "metadata": {
    "collapsed": false,
    "ExecuteTime": {
     "end_time": "2024-06-08T04:56:01.914894Z",
     "start_time": "2024-06-08T04:56:01.652266Z"
    }
   },
   "id": "9a0758a615b3f28e",
   "execution_count": 19
  },
  {
   "cell_type": "markdown",
   "source": [
    "Сохранять можно вот так"
   ],
   "metadata": {
    "collapsed": false
   },
   "id": "846efa5db96a9d58"
  },
  {
   "cell_type": "code",
   "outputs": [],
   "source": [
    "model.save_model(filepath='../models/model.joblib')"
   ],
   "metadata": {
    "collapsed": false,
    "ExecuteTime": {
     "end_time": "2024-06-08T04:56:02.225453Z",
     "start_time": "2024-06-08T04:56:01.918152Z"
    }
   },
   "id": "6637378358f88590",
   "execution_count": 20
  },
  {
   "cell_type": "code",
   "outputs": [
    {
     "data": {
      "text/plain": "<modules.ModelClass.ModelClass at 0x1b2b7377940>"
     },
     "execution_count": 21,
     "metadata": {},
     "output_type": "execute_result"
    }
   ],
   "source": [
    "model_2 = ModelClass()\n",
    "model_2.load_model(filepath='../models/model.joblib')"
   ],
   "metadata": {
    "collapsed": false,
    "ExecuteTime": {
     "end_time": "2024-06-08T04:56:02.458149Z",
     "start_time": "2024-06-08T04:56:02.227551Z"
    }
   },
   "id": "d204c4d648203b5",
   "execution_count": 21
  },
  {
   "cell_type": "code",
   "outputs": [
    {
     "data": {
      "text/plain": "             ds  sales_064_hat  sales_065_hat  sales_090_hat  sales_252_hat  \\\n1579 2015-05-27       0.792753       0.405831       0.000000      13.728467   \n1580 2015-05-28       0.011769       0.861334       0.490412      10.790953   \n1581 2015-05-29       0.420064       0.198740       9.665721      22.396927   \n1582 2015-05-30       0.593728       0.269908      34.075565      26.659003   \n1583 2015-05-31       0.409541       0.160460      15.357315      25.000704   \n...         ...            ...            ...            ...            ...   \n1664 2015-08-20       0.164126       0.264561       6.053163      22.811966   \n1665 2015-08-21       0.307114       0.332991      25.202078      26.221678   \n1666 2015-08-22       0.505709       0.420330      50.115201      30.124836   \n1667 2015-08-23       0.349344       0.325732      31.813063      28.102158   \n1668 2015-08-24       0.284386       0.331663      11.556729      23.001168   \n\n      sales_325_hat  sales_339_hat  sales_376_hat  sales_546_hat  \\\n1579       0.000000       2.636915       0.000000       2.286972   \n1580       0.000000       1.894652       1.859430       3.739914   \n1581       3.543892       2.677994       0.396197       3.237233   \n1582       4.842854       3.104649       0.936726       4.550171   \n1583       3.644369       4.391146       1.006591       5.594151   \n...             ...            ...            ...            ...   \n1664       4.169258       2.763605       0.367187       3.760431   \n1665       5.253863       2.765683       0.237649       3.734024   \n1666       6.547268       3.266823       0.739539       5.161190   \n1667       5.347082       4.641652       0.770778       6.354762   \n1668       4.393663       3.314861       0.562478       5.038711   \n\n      sales_547_hat  sales_555_hat  sales_584_hat  sales_586_hat  \\\n1579       0.000000      11.675324       2.030222      18.951079   \n1580       1.760230       9.995245       0.000000      13.569081   \n1581       7.781563      24.418188       0.760889      34.939727   \n1582       8.509553      30.850691       1.204295      42.548664   \n1583       8.880696      24.152127       0.659686      39.221923   \n...             ...            ...            ...            ...   \n1664       0.820487      20.735162       0.000000      34.278875   \n1665       2.896410      28.746781       0.617477      44.837584   \n1666       2.803146      35.224120       1.136186      52.536522   \n1667       2.461251      28.576173       0.679961      49.300252   \n1668       0.000000      21.177515       0.000000      35.259654   \n\n      sales_587_hat  sales_714_hat  sales_727_hat  \n1579      21.197434      18.004398       0.404720  \n1580      26.779681      20.223705       0.000000  \n1581      27.098882      31.969728       0.914537  \n1582      30.743906      36.902844       2.188404  \n1583      33.956595      31.013837       2.653906  \n...             ...            ...            ...  \n1664      28.215454      24.741691       3.755942  \n1665      31.187516      32.209336       4.546233  \n1666      34.469623      37.564291       5.733961  \n1667      37.275847      32.137181       6.089687  \n1668      30.246273      26.385133       4.367921  \n\n[90 rows x 16 columns]",
      "text/html": "<div>\n<style scoped>\n    .dataframe tbody tr th:only-of-type {\n        vertical-align: middle;\n    }\n\n    .dataframe tbody tr th {\n        vertical-align: top;\n    }\n\n    .dataframe thead th {\n        text-align: right;\n    }\n</style>\n<table border=\"1\" class=\"dataframe\">\n  <thead>\n    <tr style=\"text-align: right;\">\n      <th></th>\n      <th>ds</th>\n      <th>sales_064_hat</th>\n      <th>sales_065_hat</th>\n      <th>sales_090_hat</th>\n      <th>sales_252_hat</th>\n      <th>sales_325_hat</th>\n      <th>sales_339_hat</th>\n      <th>sales_376_hat</th>\n      <th>sales_546_hat</th>\n      <th>sales_547_hat</th>\n      <th>sales_555_hat</th>\n      <th>sales_584_hat</th>\n      <th>sales_586_hat</th>\n      <th>sales_587_hat</th>\n      <th>sales_714_hat</th>\n      <th>sales_727_hat</th>\n    </tr>\n  </thead>\n  <tbody>\n    <tr>\n      <th>1579</th>\n      <td>2015-05-27</td>\n      <td>0.792753</td>\n      <td>0.405831</td>\n      <td>0.000000</td>\n      <td>13.728467</td>\n      <td>0.000000</td>\n      <td>2.636915</td>\n      <td>0.000000</td>\n      <td>2.286972</td>\n      <td>0.000000</td>\n      <td>11.675324</td>\n      <td>2.030222</td>\n      <td>18.951079</td>\n      <td>21.197434</td>\n      <td>18.004398</td>\n      <td>0.404720</td>\n    </tr>\n    <tr>\n      <th>1580</th>\n      <td>2015-05-28</td>\n      <td>0.011769</td>\n      <td>0.861334</td>\n      <td>0.490412</td>\n      <td>10.790953</td>\n      <td>0.000000</td>\n      <td>1.894652</td>\n      <td>1.859430</td>\n      <td>3.739914</td>\n      <td>1.760230</td>\n      <td>9.995245</td>\n      <td>0.000000</td>\n      <td>13.569081</td>\n      <td>26.779681</td>\n      <td>20.223705</td>\n      <td>0.000000</td>\n    </tr>\n    <tr>\n      <th>1581</th>\n      <td>2015-05-29</td>\n      <td>0.420064</td>\n      <td>0.198740</td>\n      <td>9.665721</td>\n      <td>22.396927</td>\n      <td>3.543892</td>\n      <td>2.677994</td>\n      <td>0.396197</td>\n      <td>3.237233</td>\n      <td>7.781563</td>\n      <td>24.418188</td>\n      <td>0.760889</td>\n      <td>34.939727</td>\n      <td>27.098882</td>\n      <td>31.969728</td>\n      <td>0.914537</td>\n    </tr>\n    <tr>\n      <th>1582</th>\n      <td>2015-05-30</td>\n      <td>0.593728</td>\n      <td>0.269908</td>\n      <td>34.075565</td>\n      <td>26.659003</td>\n      <td>4.842854</td>\n      <td>3.104649</td>\n      <td>0.936726</td>\n      <td>4.550171</td>\n      <td>8.509553</td>\n      <td>30.850691</td>\n      <td>1.204295</td>\n      <td>42.548664</td>\n      <td>30.743906</td>\n      <td>36.902844</td>\n      <td>2.188404</td>\n    </tr>\n    <tr>\n      <th>1583</th>\n      <td>2015-05-31</td>\n      <td>0.409541</td>\n      <td>0.160460</td>\n      <td>15.357315</td>\n      <td>25.000704</td>\n      <td>3.644369</td>\n      <td>4.391146</td>\n      <td>1.006591</td>\n      <td>5.594151</td>\n      <td>8.880696</td>\n      <td>24.152127</td>\n      <td>0.659686</td>\n      <td>39.221923</td>\n      <td>33.956595</td>\n      <td>31.013837</td>\n      <td>2.653906</td>\n    </tr>\n    <tr>\n      <th>...</th>\n      <td>...</td>\n      <td>...</td>\n      <td>...</td>\n      <td>...</td>\n      <td>...</td>\n      <td>...</td>\n      <td>...</td>\n      <td>...</td>\n      <td>...</td>\n      <td>...</td>\n      <td>...</td>\n      <td>...</td>\n      <td>...</td>\n      <td>...</td>\n      <td>...</td>\n      <td>...</td>\n    </tr>\n    <tr>\n      <th>1664</th>\n      <td>2015-08-20</td>\n      <td>0.164126</td>\n      <td>0.264561</td>\n      <td>6.053163</td>\n      <td>22.811966</td>\n      <td>4.169258</td>\n      <td>2.763605</td>\n      <td>0.367187</td>\n      <td>3.760431</td>\n      <td>0.820487</td>\n      <td>20.735162</td>\n      <td>0.000000</td>\n      <td>34.278875</td>\n      <td>28.215454</td>\n      <td>24.741691</td>\n      <td>3.755942</td>\n    </tr>\n    <tr>\n      <th>1665</th>\n      <td>2015-08-21</td>\n      <td>0.307114</td>\n      <td>0.332991</td>\n      <td>25.202078</td>\n      <td>26.221678</td>\n      <td>5.253863</td>\n      <td>2.765683</td>\n      <td>0.237649</td>\n      <td>3.734024</td>\n      <td>2.896410</td>\n      <td>28.746781</td>\n      <td>0.617477</td>\n      <td>44.837584</td>\n      <td>31.187516</td>\n      <td>32.209336</td>\n      <td>4.546233</td>\n    </tr>\n    <tr>\n      <th>1666</th>\n      <td>2015-08-22</td>\n      <td>0.505709</td>\n      <td>0.420330</td>\n      <td>50.115201</td>\n      <td>30.124836</td>\n      <td>6.547268</td>\n      <td>3.266823</td>\n      <td>0.739539</td>\n      <td>5.161190</td>\n      <td>2.803146</td>\n      <td>35.224120</td>\n      <td>1.136186</td>\n      <td>52.536522</td>\n      <td>34.469623</td>\n      <td>37.564291</td>\n      <td>5.733961</td>\n    </tr>\n    <tr>\n      <th>1667</th>\n      <td>2015-08-23</td>\n      <td>0.349344</td>\n      <td>0.325732</td>\n      <td>31.813063</td>\n      <td>28.102158</td>\n      <td>5.347082</td>\n      <td>4.641652</td>\n      <td>0.770778</td>\n      <td>6.354762</td>\n      <td>2.461251</td>\n      <td>28.576173</td>\n      <td>0.679961</td>\n      <td>49.300252</td>\n      <td>37.275847</td>\n      <td>32.137181</td>\n      <td>6.089687</td>\n    </tr>\n    <tr>\n      <th>1668</th>\n      <td>2015-08-24</td>\n      <td>0.284386</td>\n      <td>0.331663</td>\n      <td>11.556729</td>\n      <td>23.001168</td>\n      <td>4.393663</td>\n      <td>3.314861</td>\n      <td>0.562478</td>\n      <td>5.038711</td>\n      <td>0.000000</td>\n      <td>21.177515</td>\n      <td>0.000000</td>\n      <td>35.259654</td>\n      <td>30.246273</td>\n      <td>26.385133</td>\n      <td>4.367921</td>\n    </tr>\n  </tbody>\n</table>\n<p>90 rows × 16 columns</p>\n</div>"
     },
     "execution_count": 22,
     "metadata": {},
     "output_type": "execute_result"
    }
   ],
   "source": [
    "model_2.predict_prophets(horizon = 90).iloc[-90:]"
   ],
   "metadata": {
    "collapsed": false,
    "ExecuteTime": {
     "end_time": "2024-06-08T04:56:07.131529Z",
     "start_time": "2024-06-08T04:56:02.459226Z"
    }
   },
   "id": "28d741ba38c04625",
   "execution_count": 22
  },
  {
   "cell_type": "markdown",
   "source": [
    "Момент истины, лучше ли профет с бустингом чем натиивный прогноз?"
   ],
   "metadata": {
    "collapsed": false
   },
   "id": "6c575b1a31c8ea2c"
  },
  {
   "cell_type": "code",
   "outputs": [],
   "source": [
    "tmp_train_sales = train_dict['sales'].reset_index()\n",
    "tmp_train_sales['ds'] = tmp_train_sales['date']\n",
    "tmp_train_sales.drop('date', axis = 1, inplace = True)"
   ],
   "metadata": {
    "collapsed": false,
    "ExecuteTime": {
     "end_time": "2024-06-08T04:56:46.829182Z",
     "start_time": "2024-06-08T04:56:46.721660Z"
    }
   },
   "id": "83313ce8d6a24934",
   "execution_count": 23
  },
  {
   "cell_type": "code",
   "outputs": [
    {
     "data": {
      "text/plain": "array([ 2.48119787,  1.89220959,  0.        , 14.68878095,  3.89596861,\n        2.70449362,  2.4614978 , 10.10804489,  2.68860027, 11.34111106,\n        2.4784788 ,  7.32295023, 27.23164546, 11.12430287,  0.        ])"
     },
     "execution_count": 24,
     "metadata": {},
     "output_type": "execute_result"
    }
   ],
   "source": [
    "((((tmp_train_sales[-7:].drop('ds', axis = 1).values - test_dict['sales'][:7].values) * test_dict['prices'][:7].values)**2).sum(axis = 0)/7)**0.5"
   ],
   "metadata": {
    "collapsed": false,
    "ExecuteTime": {
     "end_time": "2024-06-08T04:56:47.424374Z",
     "start_time": "2024-06-08T04:56:47.350853Z"
    }
   },
   "id": "a98a15f8bc2e5d5d",
   "execution_count": 24
  },
  {
   "cell_type": "code",
   "outputs": [
    {
     "data": {
      "text/plain": "array([  1.89504617,   3.65609628, 109.04823685,  21.1664968 ,\n         8.49938723,   3.72379735,   2.73858358,  20.07238169,\n         2.69344884,  12.18434405,   2.19848433,  22.45383531,\n        36.63355402,  18.04707696,  22.01328985])"
     },
     "execution_count": 25,
     "metadata": {},
     "output_type": "execute_result"
    }
   ],
   "source": [
    "((((tmp_train_sales[-30:].drop('ds', axis = 1).values - test_dict['sales'][:30].values) * test_dict['prices'][:30].values)**2).sum(axis = 0)/30)**0.5"
   ],
   "metadata": {
    "collapsed": false,
    "ExecuteTime": {
     "end_time": "2024-06-08T04:56:48.281536Z",
     "start_time": "2024-06-08T04:56:48.197335Z"
    }
   },
   "id": "cbfd2c5b9ffe03de",
   "execution_count": 25
  },
  {
   "cell_type": "code",
   "outputs": [
    {
     "data": {
      "text/plain": "array([ 2.79657568,  3.25303551, 64.49127817, 19.12822592,  9.01291512,\n        3.53169773,  3.29398374, 25.98224171,  3.24975213, 13.69197137,\n        2.3640831 , 21.93027496, 33.53863179, 23.67189445, 21.10460021])"
     },
     "execution_count": 26,
     "metadata": {},
     "output_type": "execute_result"
    }
   ],
   "source": [
    "((((tmp_train_sales[-90:].drop('ds', axis = 1).values - test_dict['sales'][:90].values) * test_dict['prices'][:90].values)**2).sum(axis = 0)/90)**0.5"
   ],
   "metadata": {
    "collapsed": false,
    "ExecuteTime": {
     "end_time": "2024-06-08T04:56:48.967966Z",
     "start_time": "2024-06-08T04:56:48.833074Z"
    }
   },
   "id": "e23fbcfa07227bfd",
   "execution_count": 26
  },
  {
   "cell_type": "markdown",
   "source": [
    "Мы побили (сезонный) нативный прогноз (не везде, на неделю вообще в щепки проиграли), можно открывать шампанское"
   ],
   "metadata": {
    "collapsed": false
   },
   "id": "76b39d26b685d9c1"
  },
  {
   "cell_type": "code",
   "outputs": [],
   "source": [],
   "metadata": {
    "collapsed": false
   },
   "id": "75e051aa3f4b5815"
  }
 ],
 "metadata": {
  "kernelspec": {
   "name": "venv",
   "language": "python",
   "display_name": "Python (myenv)"
  },
  "language_info": {
   "codemirror_mode": {
    "name": "ipython",
    "version": 2
   },
   "file_extension": ".py",
   "mimetype": "text/x-python",
   "name": "python",
   "nbconvert_exporter": "python",
   "pygments_lexer": "ipython2",
   "version": "2.7.6"
  }
 },
 "nbformat": 4,
 "nbformat_minor": 5
}
